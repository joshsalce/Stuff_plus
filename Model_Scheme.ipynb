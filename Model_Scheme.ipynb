{
 "cells": [
  {
   "cell_type": "code",
   "execution_count": null,
   "id": "7bca26fb",
   "metadata": {},
   "outputs": [],
   "source": [
    "#from pybaseball import statcast, statcast_batter, playerid_lookup\n",
    "import pandas as pd\n",
    "import numpy as np\n",
    "import seaborn as sns\n",
    "import matplotlib.pyplot as plt\n",
    "\n",
    "from sklearn.ensemble import HistGradientBoostingClassifier\n",
    "from sklearn.model_selection import train_test_split, cross_val_score, KFold\n",
    "import xgboost\n",
    "\n",
    "import pybaseball\n",
    "from pybaseball import statcast, statcast_batter, playerid_lookup, spraychart, statcast_sprint_speed, statcast_running_splits\n"
   ]
  },
  {
   "cell_type": "markdown",
   "id": "e9abcbfe",
   "metadata": {},
   "source": [
    "# Scheme\n",
    "\n",
    "Step 1:\n",
    "\n",
    "    If pitchtype = FF/SI/FC:\n",
    "    - Use FB model scheme\n",
    "        - Predict Contact/SwStr Event, probabilities \n",
    "        - Predict Foul/Fair Event, probabilities\n",
    "        - Predict In-Play LA/EV bucket, probabilities\n",
    "\n",
    "    If CH/FS:\n",
    "    - Use OS model scheme\n",
    "        - Predict Contact/SwStr Event, probabilities \n",
    "        - Predict Foul/Fair Event, probabilities\n",
    "        - Predict In-Play LA/EV bucket, probabilities\n",
    "\n",
    "    Else:\n",
    "    - Use BrBall model scheme\n",
    "        - Predict Contact/SwStr Event, probabilities \n",
    "        - Predict Foul/Fair Event, probabilities\n",
    "        - Predict In-Play LA/EV bucket, probabilities\n",
    "\n",
    "\n",
    "Step 2:\n",
    "    \n",
    "    Find context-neutral run-values of foul, swinging-strike, balls-in-play (all buckets)\n",
    "    \n",
    "    With probabilities, context-neutral RV's of foul, swinging strike, ball-in-play (all buckets):\n",
    "        - Multiply probability * RV (found in neutral_run_vals table)"
   ]
  },
  {
   "cell_type": "markdown",
   "id": "65a9f214",
   "metadata": {},
   "source": [
    "## Run Values"
   ]
  },
  {
   "cell_type": "code",
   "execution_count": null,
   "id": "0f8d8f4c",
   "metadata": {},
   "outputs": [],
   "source": [
    "all_data = pd.read_csv('TrainDataNonClustered.csv', low_memory=False)"
   ]
  },
  {
   "cell_type": "code",
   "execution_count": null,
   "id": "9cfd941d",
   "metadata": {},
   "outputs": [],
   "source": [
    "all_data['description'] = all_data.description.replace('swinging_strike','strike').replace(\n",
    "'called_strike','strike')"
   ]
  },
  {
   "cell_type": "code",
   "execution_count": null,
   "id": "89038659",
   "metadata": {},
   "outputs": [],
   "source": [
    "# Calculate context-neutral run values, remove in-play for LA_EV bucket run values\n",
    "rvs = all_data.groupby(\n",
    "    ['description']).delta_run_exp.mean().round(3).reset_index()\n",
    "non_bip_rvs = rvs[rvs.description != 'hit_into_play']\n",
    "\n",
    "# Calculate context-neutral run values for LA_EV buckets\n",
    "LA_EV_rvs = all_data.groupby(\n",
    "    ['LA_EV']).delta_run_exp.mean().round(3).reset_index().rename(\n",
    "    columns={'LA_EV':'description'})\n",
    "\n",
    "# Calculate context-neutral run values for Spray Buckets\n",
    "Spray_rvs = all_data.groupby(\n",
    "    ['Spray_Bucket']).delta_run_exp.mean().round(3).reset_index().rename(\n",
    "    columns={'Spray_Bucket':'description'})"
   ]
  },
  {
   "cell_type": "code",
   "execution_count": null,
   "id": "498ab57b",
   "metadata": {},
   "outputs": [],
   "source": [
    "# Create single dataframe of context-neutral run values\n",
    "all_rvs = pd.concat([non_bip_rvs, LA_EV_rvs, Spray_rvs]).reset_index(drop=True)\n",
    "all_rvs['delta_run_exp'] = np.where(all_rvs.description == 'foul', 0, all_rvs.delta_run_exp)\n",
    "all_rvs"
   ]
  },
  {
   "cell_type": "code",
   "execution_count": null,
   "id": "d70b834e",
   "metadata": {},
   "outputs": [],
   "source": [
    "all_rvs.to_csv('RunValues.csv',index=False)"
   ]
  },
  {
   "cell_type": "markdown",
   "id": "0556f15b",
   "metadata": {},
   "source": [
    "# Training"
   ]
  },
  {
   "cell_type": "markdown",
   "id": "0506baaf",
   "metadata": {},
   "source": [
    "## Fastballs"
   ]
  },
  {
   "cell_type": "code",
   "execution_count": null,
   "id": "f191caa7",
   "metadata": {},
   "outputs": [],
   "source": [
    "fb_stf_con = pd.read_csv('Data/Models/FB Models/Stuff_FB_Contact.csv', low_memory = False)\n",
    "fb_stf_foul = pd.read_csv('Data/Models/FB Models/Stuff_FB_Foul.csv', low_memory = False)\n",
    "fb_stf_inplay1 = pd.read_csv('Data/Models/FB Models/Stuff_FB_InPlay1.csv', low_memory = False)\n",
    "fb_stf_inplay2 = pd.read_csv('Data/Models/FB Models/Stuff_FB_InPlay2.csv', low_memory = False)"
   ]
  },
  {
   "cell_type": "code",
   "execution_count": null,
   "id": "898b4a22",
   "metadata": {},
   "outputs": [],
   "source": [
    "fb_stf_con_y = fb_stf_con['Contact_Event']\n",
    "fb_stf_con_X = fb_stf_con.drop('Contact_Event',axis=1)\n",
    "\n",
    "fb_stf_foul_y = fb_stf_foul['Foul_Event']\n",
    "fb_stf_foul_X = fb_stf_foul.drop('Foul_Event',axis=1)\n",
    "\n",
    "fb_stf_bip1_y = fb_stf_inplay1['LA_EV']\n",
    "fb_stf_bip1_X = fb_stf_inplay1.drop('LA_EV',axis=1)"
   ]
  },
  {
   "cell_type": "code",
   "execution_count": null,
   "id": "a8fabc8e",
   "metadata": {},
   "outputs": [],
   "source": []
  },
  {
   "cell_type": "markdown",
   "id": "663c2352",
   "metadata": {},
   "source": [
    "## Offspeed"
   ]
  },
  {
   "cell_type": "code",
   "execution_count": null,
   "id": "7c790669",
   "metadata": {},
   "outputs": [],
   "source": [
    "os_contact = pd.read_csv('Data/Models/Contact_Models/Stuff_OS_Contact.csv', low_memory = False)\n",
    "os_foul = pd.read_csv('Data/Models/Foul_Models/Stuff_OS_Foul.csv', low_memory = False)\n",
    "os_inplay = pd.read_csv('Data/Models/In_Play_Models/Stuff_OS_InPlay.csv', low_memory = False)"
   ]
  },
  {
   "cell_type": "code",
   "execution_count": null,
   "id": "1d734504",
   "metadata": {},
   "outputs": [],
   "source": [
    "os_con_y = os_contact['Contact_Event']\n",
    "os_con_X = os_contact.drop('Contact_Event',axis=1)\n",
    "\n",
    "os_foul_y = os_foul['Foul_Event']\n",
    "os_foul_X = os_foul.drop('Foul_Event',axis=1)\n",
    "\n",
    "os_bip_y = os_inplay['LA_EV']\n",
    "os_bip_X = os_inplay.drop('LA_EV',axis=1)"
   ]
  },
  {
   "cell_type": "code",
   "execution_count": null,
   "id": "b4ffa516",
   "metadata": {},
   "outputs": [],
   "source": []
  },
  {
   "cell_type": "markdown",
   "id": "51fadc19",
   "metadata": {},
   "source": [
    "## Breaking Balls"
   ]
  },
  {
   "cell_type": "code",
   "execution_count": null,
   "id": "159570de",
   "metadata": {},
   "outputs": [],
   "source": [
    "brba_contact = pd.read_csv('Data/Models/Contact_Models/Stuff_BrBall_Contact.csv', low_memory = False)\n",
    "brba_foul = pd.read_csv('Data/Models/Foul_Models/Stuff_BrBall_Foul.csv', low_memory = False)\n",
    "brba_inplay = pd.read_csv('Data/Models/In_Play_Models/Stuff_BrBall_InPlay.csv', low_memory = False)"
   ]
  },
  {
   "cell_type": "code",
   "execution_count": null,
   "id": "cf43f3d8",
   "metadata": {},
   "outputs": [],
   "source": [
    "brba_con_y = brba_contact['Contact_Event']\n",
    "brba_con_X = brba_contact.drop('Contact_Event',axis=1)\n",
    "\n",
    "brba_foul_y = brba_foul['Foul_Event']\n",
    "brba_foul_X = brba_foul.drop('Foul_Event',axis=1)\n",
    "\n",
    "brba_bip_y = brba_inplay['LA_EV']\n",
    "brba_bip_X = brba_inplay.drop('LA_EV',axis=1)"
   ]
  },
  {
   "cell_type": "code",
   "execution_count": null,
   "id": "0d0b122a",
   "metadata": {},
   "outputs": [],
   "source": []
  }
 ],
 "metadata": {
  "kernelspec": {
   "display_name": "Python 3 (ipykernel)",
   "language": "python",
   "name": "python3"
  },
  "language_info": {
   "codemirror_mode": {
    "name": "ipython",
    "version": 3
   },
   "file_extension": ".py",
   "mimetype": "text/x-python",
   "name": "python",
   "nbconvert_exporter": "python",
   "pygments_lexer": "ipython3",
   "version": "3.11.3"
  }
 },
 "nbformat": 4,
 "nbformat_minor": 5
}
