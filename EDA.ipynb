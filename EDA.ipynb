{
 "cells": [
  {
   "cell_type": "markdown",
   "id": "3fec48ae",
   "metadata": {},
   "source": [
    "# Imports"
   ]
  },
  {
   "cell_type": "code",
   "execution_count": 1,
   "id": "72347ae2",
   "metadata": {},
   "outputs": [],
   "source": [
    "#!pip install pybaseball\n",
    "\n",
    "from pybaseball import statcast, statcast_batter, playerid_lookup\n",
    "import pandas as pd\n",
    "import numpy as np\n",
    "import matplotlib.pyplot as plt\n",
    "import seaborn as sns\n",
    "\n",
    "import unidecode\n",
    "from datetime import datetime\n",
    "\n",
    "from sklearn.decomposition import PCA\n",
    "from sklearn.decomposition import TruncatedSVD\n",
    "\n",
    "from sklearn.pipeline import Pipeline\n",
    "from sklearn.compose import ColumnTransformer\n",
    "from sklearn.preprocessing import StandardScaler, MinMaxScaler, OneHotEncoder, LabelEncoder\n",
    "\n",
    "from scipy.stats import multivariate_normal\n",
    "from scipy.spatial.distance import mahalanobis\n",
    "\n",
    "\n",
    "from sklearn.pipeline import Pipeline\n",
    "from sklearn.model_selection import train_test_split, cross_val_score, RandomizedSearchCV\n",
    "from sklearn.mixture import GaussianMixture\n",
    "from sklearn.metrics import pairwise_distances_argmin_min\n",
    "\n",
    "\n",
    "import math\n",
    "import warnings\n",
    "warnings.filterwarnings('ignore')"
   ]
  },
  {
   "cell_type": "code",
   "execution_count": 28,
   "id": "d356ebfc",
   "metadata": {},
   "outputs": [
    {
     "name": "stdout",
     "output_type": "stream",
     "text": [
      "This is a large query, it may take a moment to complete\n"
     ]
    },
    {
     "name": "stderr",
     "output_type": "stream",
     "text": [
      "100%|█████████████████████████████████████████| 186/186 [01:49<00:00,  1.69it/s]\n"
     ]
    },
    {
     "name": "stdout",
     "output_type": "stream",
     "text": [
      "This is a large query, it may take a moment to complete\n"
     ]
    },
    {
     "name": "stderr",
     "output_type": "stream",
     "text": [
      "100%|█████████████████████████████████████████| 186/186 [01:56<00:00,  1.60it/s]\n"
     ]
    }
   ],
   "source": [
    "data2021_query = statcast('2021-04-01', '2021-10-03', parallel = True)\n",
    "data2022_query = statcast('2022-03-31', '2022-10-02', parallel = True)\n",
    "# data2023 = statcast('2023-03-30', '2023-10-01', parallel = True)\n",
    "\n",
    "#data2021 = pd.read_csv('Data/Statcast/statcast21.csv', low_memory = False)\n",
    "#data2022 = pd.read_csv('Data/Statcast/statcast22.csv', low_memory = False)"
   ]
  },
  {
   "cell_type": "code",
   "execution_count": 186,
   "id": "7dedabda",
   "metadata": {},
   "outputs": [
    {
     "name": "stdout",
     "output_type": "stream",
     "text": [
      "This is a large query, it may take a moment to complete\n"
     ]
    },
    {
     "name": "stderr",
     "output_type": "stream",
     "text": [
      "100%|█████████████████████████████████████████| 186/186 [03:05<00:00,  1.00it/s]\n"
     ]
    }
   ],
   "source": [
    "data2023 = statcast('2023-03-30', '2023-10-01', parallel = True)\n",
    "data2023.to_csv('statcast23.csv',index=False)"
   ]
  },
  {
   "cell_type": "markdown",
   "id": "6c8d892b",
   "metadata": {},
   "source": [
    "# Cleaning"
   ]
  },
  {
   "cell_type": "markdown",
   "id": "bcc78303",
   "metadata": {},
   "source": [
    "## Eliminating Position Players"
   ]
  },
  {
   "cell_type": "code",
   "execution_count": 37,
   "id": "2e84cc6b",
   "metadata": {
    "scrolled": true
   },
   "outputs": [],
   "source": [
    "sorted_names = data2021_query.player_name.value_counts(sort=True).index\n",
    "pitch_totals = data2021_query.player_name.value_counts(sort=True)\n",
    "\n",
    "#for i,j in zip(sorted_names,pitch_totals):\n",
    "#    if j <= 150:\n",
    "#        print(i,j)"
   ]
  },
  {
   "cell_type": "code",
   "execution_count": 1,
   "id": "20c9ba55",
   "metadata": {},
   "outputs": [],
   "source": [
    "# Names of position players to leave out of dataset\n",
    "names = \"\".join([\"Blandino, Alex,León, Sandy,Sogard, Eric,Astudillo, Willians,Peterson, Jace,Torreyes, Ronald,Mercedes, Yermín,\",\n",
    "         \"Castro, Harold,Peralta, David,Almora Jr., Albert,Mejía, Francisco,Drury, Brandon,Tauchman, Mike,Burns, Andy,\",\n",
    "         \"Phillips, Brett,Eaton, Adam,Bemboom, Anthony,Ruf, Darin,Maile, Luke,Tom, Ka'ai,Luplow, Jordan,Plawecki, Kevin,\",\n",
    "        \"Rogers, Jake,Reddick, Josh,Moreland, Mitch,Cabrera, Asdrúbal,Guillorme, Luis,Holaday, Bryan,Pérez, Hernán,\",\n",
    "         \"Wilkerson, Stevie,Arroyo, Christian,Rizzo, Anthony,Romine, Andrew,Mendick, Danny,Schrock, Max,\",\n",
    "         \"Culberson, Charlie,Araúz, Jonathan,Gonzalez, Marwin,Turner, Justin,Robertson, Daniel,Holt, Brock,\",\n",
    "         \"Mathisen, Wyatt,Wynns, Austin,Lopez, Nicky,Moran, Brian,Owings, Chris,Reyes, Pablo,Difo, Wilmer,\",\n",
    "        \"Fuentes, Joshua,Valaika, Pat,Cronenworth, Jake,Pillar, Kevin,Slater, Austin,Evans, Phillip,Duffy, Matt,\",\n",
    "        \"Alcántara, Sergio,Knapp, Andrew,Freeman, Mike,Gonzalez, Romy,Maton, Nick,Mayfield, Jack,Alberto, Hanser,\",\n",
    "        \"Clemens, Kody,González, Luis,Gordon, Nick,VanMeter, Josh,Bethancourt, Christian,Brosseau, Mike,Myers, Wil,\",\n",
    "        \"Clement, Ernie,Schwindel, Frank,Molina, Yadier,Taylor, Michael A.,Neuse, Sheldon,Strange-Gordon, Dee,\",\n",
    "        \"McKenna, Ryan,Bradley Jr., Jackie,Pujols, Albert,Freeman, Caleb,Pinder, Chad,Chang, Yu,Batten, Matthew,\",\n",
    "        \"Simmons, Andrelton,Escobar, Alcides,Dozier, Hunter,Walton, Donovan,Reynolds, Matt,Torrens, Luis,Dickerson, Corey,\",\n",
    "         \"Barnhart, Tucker,Caratini, Victor,Merrifield, Whit,Adrianza, Ehire,Knizner, Andrew,Grichuk, Randal,Serven, Brian,\",\n",
    "        \"Palacios, Jermaine,McGuire, Reese,Vargas, Ildemaro,Hall, Darick,Gosselin, Phil,Nogowski, John,Stubbs, Garrett,\",\n",
    "        \"Sánchez, Yolmer,Arcia, Orlando,Ford, Mike,Hager, Jake,Harrison, Josh,Kelly, Carson,Lopez, Alejo,\",\n",
    "        \"Carpenter, Matt,Reyes, Franmil,García, Robel\"]).split(',')\n",
    "\n",
    "# Join concatted string into array of names as they appear in Statcast name column\n",
    "pos_players = [x+ ',' +y for x,y in zip(names[0::2], names[1::2])]"
   ]
  },
  {
   "cell_type": "code",
   "execution_count": 4,
   "id": "5790df5a",
   "metadata": {},
   "outputs": [
    {
     "data": {
      "text/plain": [
       "['Blandino, Alex',\n",
       " 'León, Sandy',\n",
       " 'Sogard, Eric',\n",
       " 'Astudillo, Willians',\n",
       " 'Peterson, Jace',\n",
       " 'Torreyes, Ronald',\n",
       " 'Mercedes, Yermín',\n",
       " 'Castro, Harold',\n",
       " 'Peralta, David',\n",
       " 'Almora Jr., Albert',\n",
       " 'Mejía, Francisco',\n",
       " 'Drury, Brandon',\n",
       " 'Tauchman, Mike',\n",
       " 'Burns, Andy',\n",
       " 'Phillips, Brett',\n",
       " 'Eaton, Adam',\n",
       " 'Bemboom, Anthony',\n",
       " 'Ruf, Darin',\n",
       " 'Maile, Luke',\n",
       " \"Tom, Ka'ai\",\n",
       " 'Luplow, Jordan',\n",
       " 'Plawecki, Kevin',\n",
       " 'Rogers, Jake',\n",
       " 'Reddick, Josh',\n",
       " 'Moreland, Mitch',\n",
       " 'Cabrera, Asdrúbal',\n",
       " 'Guillorme, Luis',\n",
       " 'Holaday, Bryan',\n",
       " 'Pérez, Hernán',\n",
       " 'Wilkerson, Stevie',\n",
       " 'Arroyo, Christian',\n",
       " 'Rizzo, Anthony',\n",
       " 'Romine, Andrew',\n",
       " 'Mendick, Danny',\n",
       " 'Schrock, Max',\n",
       " 'Culberson, Charlie',\n",
       " 'Araúz, Jonathan',\n",
       " 'Gonzalez, Marwin',\n",
       " 'Turner, Justin',\n",
       " 'Robertson, Daniel',\n",
       " 'Holt, Brock',\n",
       " 'Mathisen, Wyatt',\n",
       " 'Wynns, Austin',\n",
       " 'Lopez, Nicky',\n",
       " 'Moran, Brian',\n",
       " 'Owings, Chris',\n",
       " 'Reyes, Pablo',\n",
       " 'Difo, Wilmer',\n",
       " 'Fuentes, Joshua',\n",
       " 'Valaika, Pat',\n",
       " 'Cronenworth, Jake',\n",
       " 'Pillar, Kevin',\n",
       " 'Slater, Austin',\n",
       " 'Evans, Phillip',\n",
       " 'Duffy, Matt',\n",
       " 'Alcántara, Sergio',\n",
       " 'Knapp, Andrew',\n",
       " 'Freeman, Mike',\n",
       " 'Gonzalez, Romy',\n",
       " 'Maton, Nick',\n",
       " 'Mayfield, Jack',\n",
       " 'Alberto, Hanser',\n",
       " 'Clemens, Kody',\n",
       " 'González, Luis',\n",
       " 'Gordon, Nick',\n",
       " 'VanMeter, Josh',\n",
       " 'Bethancourt, Christian',\n",
       " 'Brosseau, Mike',\n",
       " 'Myers, Wil',\n",
       " 'Clement, Ernie',\n",
       " 'Schwindel, Frank',\n",
       " 'Molina, Yadier',\n",
       " 'Taylor, Michael A.',\n",
       " 'Neuse, Sheldon',\n",
       " 'Strange-Gordon, Dee',\n",
       " 'McKenna, Ryan',\n",
       " 'Bradley Jr., Jackie',\n",
       " 'Pujols, Albert',\n",
       " 'Freeman, Caleb',\n",
       " 'Pinder, Chad',\n",
       " 'Chang, Yu',\n",
       " 'Batten, Matthew',\n",
       " 'Simmons, Andrelton',\n",
       " 'Escobar, Alcides',\n",
       " 'Dozier, Hunter',\n",
       " 'Walton, Donovan',\n",
       " 'Reynolds, Matt',\n",
       " 'Torrens, Luis',\n",
       " 'Dickerson, Corey',\n",
       " 'Barnhart, Tucker',\n",
       " 'Caratini, Victor',\n",
       " 'Merrifield, Whit',\n",
       " 'Adrianza, Ehire',\n",
       " 'Knizner, Andrew',\n",
       " 'Grichuk, Randal',\n",
       " 'Serven, Brian',\n",
       " 'Palacios, Jermaine',\n",
       " 'McGuire, Reese',\n",
       " 'Vargas, Ildemaro',\n",
       " 'Hall, Darick',\n",
       " 'Gosselin, Phil',\n",
       " 'Nogowski, John',\n",
       " 'Stubbs, Garrett',\n",
       " 'Sánchez, Yolmer',\n",
       " 'Arcia, Orlando',\n",
       " 'Ford, Mike',\n",
       " 'Hager, Jake',\n",
       " 'Harrison, Josh',\n",
       " 'Kelly, Carson',\n",
       " 'Lopez, Alejo',\n",
       " 'Carpenter, Matt',\n",
       " 'Reyes, Franmil',\n",
       " 'García, Robel']"
      ]
     },
     "execution_count": 4,
     "metadata": {},
     "output_type": "execute_result"
    }
   ],
   "source": [
    "pos_players"
   ]
  },
  {
   "cell_type": "code",
   "execution_count": 42,
   "id": "0325cb29",
   "metadata": {},
   "outputs": [
    {
     "data": {
      "text/plain": [
       "\"\\ndata21_grps[((data21_grps.num_pitches <= 200) & (data21_grps['med_velo'] < 85)) |\\n            ((data21_grps.num_pitches <= 200) & (data21_grps['Max-Avg Diff'] > 12))|\\n           ((data21_grps.num_pitches <= 200) & (data21_grps['max_velo'] < 90))]\\n\\ndata22_grps[((data22_grps.num_pitches <= 200) & (data22_grps['med_velo'] < 85)) |\\n            ((data22_grps.num_pitches <= 200) & (data22_grps['Max-Avg Diff'] > 12))|\\n           ((data21_grps.num_pitches <= 200) & (data21_grps['max_velo'] < 90))]\\n\""
      ]
     },
     "execution_count": 42,
     "metadata": {},
     "output_type": "execute_result"
    }
   ],
   "source": [
    "# Group by statements to find # pitches and velocity numbers for position players\n",
    "\"\"\"data21_grps = data2021_query.groupby('player_name').agg(max_velo =('release_speed', np.max),\n",
    "                                               med_velo =('release_speed', np.median),\n",
    "                                               avg_velo =('release_speed', np.mean),\n",
    "                                               num_pitches = ('player_name', np.count_nonzero))\n",
    "data22_grps = data2022_query.groupby('player_name').agg(max_velo =('release_speed', np.max),\n",
    "                                               med_velo =('release_speed', np.median),\n",
    "                                               avg_velo =('release_speed', np.mean),\n",
    "                                               num_pitches = ('player_name', np.count_nonzero))\n",
    "\n",
    "data21_grps['Max-Avg Diff'] = data21_grps['max_velo'] - data21_grps['avg_velo']\n",
    "data22_grps['Max-Avg Diff'] = data22_grps['max_velo'] - data22_grps['avg_velo']\n",
    "\"\"\"\n",
    "# Filter out to find all position players\n",
    "\n",
    "\"\"\"\n",
    "data21_grps[((data21_grps.num_pitches <= 200) & (data21_grps['med_velo'] < 85)) |\n",
    "            ((data21_grps.num_pitches <= 200) & (data21_grps['Max-Avg Diff'] > 12))|\n",
    "           ((data21_grps.num_pitches <= 200) & (data21_grps['max_velo'] < 90))]\n",
    "\n",
    "data22_grps[((data22_grps.num_pitches <= 200) & (data22_grps['med_velo'] < 85)) |\n",
    "            ((data22_grps.num_pitches <= 200) & (data22_grps['Max-Avg Diff'] > 12))|\n",
    "           ((data21_grps.num_pitches <= 200) & (data21_grps['max_velo'] < 90))]\n",
    "\"\"\""
   ]
  },
  {
   "cell_type": "code",
   "execution_count": 35,
   "id": "8cfb8a7f",
   "metadata": {},
   "outputs": [
    {
     "data": {
      "text/plain": [
       "((709852, 92), (712392, 92))"
      ]
     },
     "execution_count": 35,
     "metadata": {},
     "output_type": "execute_result"
    }
   ],
   "source": [
    "data2021_query.shape, data2022_query.shape"
   ]
  },
  {
   "cell_type": "code",
   "execution_count": 44,
   "id": "4f981645",
   "metadata": {},
   "outputs": [],
   "source": [
    "#(Recursively) Eliminate position players from dataset, update dataset\n",
    "data21_pits = data2021_query[~data2021_query.player_name.isin(pos_players)]\n",
    "data22_pits = data2022_query[~data2022_query.player_name.isin(pos_players)]"
   ]
  },
  {
   "cell_type": "code",
   "execution_count": 24,
   "id": "05b83e06",
   "metadata": {},
   "outputs": [],
   "source": [
    "# Save first-pass cleaned data to CSV"
   ]
  },
  {
   "cell_type": "markdown",
   "id": "c5a4aaa3",
   "metadata": {},
   "source": [
    "## NA Values"
   ]
  },
  {
   "cell_type": "code",
   "execution_count": 134,
   "id": "c7daf063",
   "metadata": {},
   "outputs": [],
   "source": [
    "# Define a function to fill NaN values within groups\n",
    "def fillna_by_pitcher(df, cols, types):\n",
    "    '''\n",
    "    Description: Fills NA values (pitch metrics), applied by pitch type per pitcher\n",
    "    --------------------------------------------------------------------------------\n",
    "    Inputs: df, cols\n",
    "    \n",
    "    Returns: df\n",
    "        NA columns filled\n",
    "    '''\n",
    "\n",
    "    \n",
    "    # For each column, take mean of column within dataframe, fill NA values with mean\n",
    "    for i in cols:\n",
    "\n",
    "        mean = df[i].mean(skipna= True).astype(types[i])\n",
    "        #print(i, mean)\n",
    "        \n",
    "        df[i].fillna(mean,inplace = True)\n",
    "    \n",
    "    return df"
   ]
  },
  {
   "cell_type": "code",
   "execution_count": 144,
   "id": "97563ae3",
   "metadata": {},
   "outputs": [],
   "source": [
    "def clean_train_data(df):\n",
    "    '''\n",
    "    Description: Cleans training data, filters dataframe for relevant features, \n",
    "    removes non-pitches and fills in NA values for each unique pitch for all pitchers\n",
    "    --------------------------------------------------------------------------------\n",
    "    Inputs: df\n",
    "    \n",
    "    Returns: df_clean\n",
    "        Cleaned input df\n",
    "    '''\n",
    "    # Define relevant feature columns, values to remove, columns with NA values to fill\n",
    "    non_pitches = ['FA','PO','EP','CS']\n",
    "    \n",
    "    y = ['delta_run_exp']\n",
    "    \n",
    "    y_cats = ['description','bb_type']\n",
    "    \n",
    "    context_features = ['game_pk','game_date','player_name','batter', 'pitch_type',\n",
    "                        'at_bat_number','pitch_number',\n",
    "                        'home_team','p_throws','stand',\n",
    "                        'balls','strikes','sz_top', 'sz_bot']\n",
    "    # do not inlcude baserunners for GIDPs\n",
    "    \n",
    "    cont_features = ['release_speed','release_extension','effective_speed','release_spin_rate',\n",
    "            'release_pos_x', 'release_pos_y', 'release_pos_z','spin_axis', 'pfx_x', 'pfx_z',\n",
    "            'vx0', 'vy0', 'vz0', 'ax', 'ay', 'az', 'plate_x', 'plate_z',\n",
    "            'launch_speed','launch_angle', 'hc_x','hc_y']\n",
    "    \n",
    "    \n",
    "    features = y + y_cats + context_features + cont_features\n",
    "    \n",
    "    # Drop later: game_pk, player_name, batter, game_date, at_bat_number, pitch_number\n",
    "\n",
    "    # Filter Dataframe for features\n",
    "    df = df[features]\n",
    "    \n",
    "    # Remove pitchouts/non-pitches, pitches with 0 movement (Statcast errors)\n",
    "    print(\"Number of Statcast Errors Removed:\",\n",
    "        df[(df.pitch_type.isin(non_pitches)) | ((df.pfx_x == 0.0) & (df.pfx_z == 0.0))].shape[0])\n",
    "    \n",
    "    df_filt = df[(~df.pitch_type.isin(non_pitches)) & ((df.pfx_x != 0.0) & (df.pfx_z != 0.0))]\n",
    "    \"\"\"\n",
    "    # Define columns to fill or drop if NA\n",
    "    fill_cols = ['release_speed','release_extension','effective_speed','release_spin_rate',\n",
    "                 'release_pos_x','release_pos_y','release_pos_z','spin_axis']\n",
    "\n",
    "    fill_dtypes = {'release_speed': 'float64',\n",
    "                   'release_extension': 'float64',\n",
    "                   'effective_speed': 'float64',\n",
    "                   'release_spin_rate': 'int64',\n",
    "                 'release_pos_x': 'float64',\n",
    "                   'release_pos_y': 'float64',\n",
    "                   'release_pos_z': 'float64',\n",
    "                   'spin_axis':'int64'} \n",
    "    \n",
    "    \n",
    "    \n",
    "    # Fill in NA values for each pitch and pitcher with mean of each column for each unique\n",
    "    \n",
    "\n",
    "    df_filled = df_filt.groupby(['player_name','pitch_type']).apply(\n",
    "        fillna_by_pitcher, cols = fill_cols, types = fill_dtypes)\n",
    "    \"\"\"\n",
    "\n",
    "    na_cols = ['delta_run_exp','pitch_number','pfx_x','pfx_z',\n",
    "               'release_pos_x', 'release_pos_y', 'release_pos_z', \n",
    "               'release_speed','release_extension','effective_speed','release_spin_rate',\n",
    "               'spin_axis','sz_top', 'sz_bot']\n",
    "    \n",
    "    df_clean = df_filt.dropna(subset=na_cols)\n",
    "    \n",
    "    # get rid of bad values of description/bb_type\n",
    "    df_clean = df_clean[(~((df_clean.description == 'hit_into_play') & (df_clean.bb_type.isna()))) | \n",
    "                        ( (df_clean.bb_type.notna()) & \n",
    "                         ( (df_clean.launch_speed.notna()) & (df_clean.launch_angle.notna()) ) \n",
    "                        )]\n",
    "    \n",
    "    df_clean = df_clean.replace('foul_tip','swinging_strike').replace(\n",
    "    'swinging_strike_blocked','swinging_strike').replace('blocked_ball','ball').replace(\n",
    "    'missed_bunt','swinging_strike').replace('bunt_foul_tip','swinging_strike').replace(\n",
    "        'foul_bunt','foul')\n",
    "    \n",
    "    #df_clean = df_clean[~((df_clean.description == 'hit_into_play') & (df_clean.bb_type.isna()))]\n",
    "    \n",
    "    # OHC Base variables to 0 and 1\n",
    "    #df_clean[['on_1b','on_2b','on_3b']] = df_clean[['on_1b','on_2b','on_3b']].notna().astype(int)\n",
    "\n",
    "    # Sort dataframe by pitches in chronological order, return\n",
    "    df_clean = df_clean.sort_values(['game_date','game_pk','at_bat_number','pitch_number'])\n",
    "    return df_clean"
   ]
  },
  {
   "cell_type": "code",
   "execution_count": 158,
   "id": "4bf67e82",
   "metadata": {},
   "outputs": [],
   "source": [
    "def add_new_features(df, season_start):\n",
    "    '''\n",
    "    Description: Adds new features in dataframe\n",
    "        - inferred_axis: Inferred Spin Axis (SSW Effects)\n",
    "        - axis_diff: Difference of Inferred and Observed Spin Axis\n",
    "        - game_week: Change game date to week of season depending on start date of season\n",
    "        - pitch_count: Pitch # of outing for each outing per pitcher \n",
    "    --------------------------------------------------------------------------------\n",
    "    Inputs: df, season_start (str)\n",
    "    \n",
    "    Returns: df\n",
    "        Dataframe with new features added\n",
    "    '''\n",
    "    \n",
    "    # inferred_axis: 180 / pi * atan(pfx_z / pfx_x) + 90 (where pfx_x is < 0, add 180 degrees.)\n",
    "    df['inferred_axis'] = np.degrees(np.arctan(df['pfx_z'] / df['pfx_x'])) + 90\n",
    "    df.loc[df['pfx_x'] < 0, 'inferred_axis'] += 180\n",
    "    df['axis_diff'] = df['spin_axis'] - df['inferred_axis']\n",
    "    \n",
    "    # axis_diff: spin_axis - inferred_axis\n",
    "    \n",
    "    # Pitch Count: Cumulative pitch number of outing for pitcher\n",
    "    df['pitch_count'] = df.sort_values(\n",
    "    ['game_date','game_pk','at_bat_number','pitch_number']).groupby(\n",
    "    ['game_date','game_pk','player_name']).cumcount() + 1\n",
    "    \n",
    "    # Create game_week column, where week of season is taken from game_date in Savant\n",
    "    \"\"\"\n",
    "    start_date = datetime.strptime(season_start, '%Y-%m-%d').date()\n",
    "    \n",
    "    df['datetime'] = pd.to_datetime(df['game_date'])\n",
    "    df['game_week'] = df.apply(lambda x: ((x['datetime'].date() - start_date).days // 7) + 1, axis = 1)\n",
    "    df = df.drop('datetime',axis=1)\n",
    "    \"\"\"\n",
    "    \n",
    "\n",
    "    return df"
   ]
  },
  {
   "cell_type": "code",
   "execution_count": 159,
   "id": "6576724b",
   "metadata": {},
   "outputs": [
    {
     "name": "stdout",
     "output_type": "stream",
     "text": [
      "Number of Statcast Errors Removed: 1368\n",
      "Number of Statcast Errors Removed: 1910\n"
     ]
    }
   ],
   "source": [
    "data21_query_clean = clean_train_data(data2021_query)\n",
    "data22_query_clean = clean_train_data(data2022_query)"
   ]
  },
  {
   "cell_type": "code",
   "execution_count": 160,
   "id": "7c2462a0",
   "metadata": {},
   "outputs": [],
   "source": [
    "data21 = add_new_features(data21_query_clean,'2021-04-01')\n",
    "data22 = add_new_features(data22_query_clean,'2022-03-31')"
   ]
  },
  {
   "cell_type": "markdown",
   "id": "fd2e6026",
   "metadata": {},
   "source": [
    "# EDA"
   ]
  },
  {
   "cell_type": "markdown",
   "id": "4dd741d1",
   "metadata": {},
   "source": [
    "## Feature Exploration- Pitch Type Frequency"
   ]
  },
  {
   "cell_type": "markdown",
   "id": "0770e2bd",
   "metadata": {},
   "source": [
    "### Aggregate Counts, Cumulative Relative Frequency of Pitch Type Over Season"
   ]
  },
  {
   "cell_type": "code",
   "execution_count": 150,
   "id": "8a283fb7",
   "metadata": {},
   "outputs": [],
   "source": [
    "def plot_lineplot(dataset, xvar, yvar, hue_var):\n",
    "    '''\n",
    "    Description: Plots lineplot, adds labels of hue variable at end of each line\n",
    "    --------------------------------------------------------------------------------\n",
    "    Inputs: dataset, x_var, y_var, hue_var\n",
    "    \n",
    "    Returns: None\n",
    "    '''\n",
    "    plt.figure(figsize = (20,10))\n",
    "    plot = sns.lineplot(data = dataset, x = xvar,y= yvar,hue = hue_var, palette = 'tab10')\n",
    "    \n",
    "    # Add labels to the lines, each at the last x-value and corresponding y-value \n",
    "    for line in plot.lines:\n",
    "        x, y = line.get_data()\n",
    "        \n",
    "        if len(x) == 0 and len(y) == 0:\n",
    "            pass\n",
    "        else:\n",
    "            label = dataset[dataset[yvar] == y[-1]][hue_var].values[-1]\n",
    "            plt.text(x[-1], y[-1], label, ha='right', va='bottom', fontsize=12, color=line.get_color())"
   ]
  },
  {
   "cell_type": "code",
   "execution_count": 151,
   "id": "682a5b6b",
   "metadata": {},
   "outputs": [],
   "source": [
    "def get_aggregate_count(data, player, year, plot = True):\n",
    "    '''\n",
    "    Description: Aggregates data for all pitch_types, cumulative count for each date,\n",
    "    plots lineplot of aggregate data with labels\n",
    "    --------------------------------------------------------------------------------\n",
    "    Inputs: data (dataframe), player (str), year (str/int), plot (boolean, default True)\n",
    "    \n",
    "    Returns: pitch_aggs (dataframe)\n",
    "    '''\n",
    "    # Reverses order of data, changes date to datetime type instead of str\n",
    "    data = data[::-1].reset_index(drop=True)\n",
    "    data['game_date'] = pd.to_datetime(data['game_date'])\n",
    "    \n",
    "    # Groups input data by pitch_type and game_date for each date \n",
    "    # (includes 0 for pitches not thrown on a specific day)\n",
    "    pitch_aggs = pd.DataFrame(data.groupby(['pitch_type','game_date']).size().unstack(\n",
    "     fill_value=0)).reset_index().melt(\n",
    "        id_vars='pitch_type', var_name='game_date', value_name='count')\n",
    "    \n",
    "    #  Cumulatively sums pitch type counts ober each unique day\n",
    "    pitch_aggs['Cumulative_Count'] = pitch_aggs.groupby('pitch_type')['count'].cumsum()\n",
    "    \n",
    "    # Plots lineplot for data if plot set to true\n",
    "    if plot:\n",
    "        plot_lineplot(pitch_aggs, 'game_date', 'Cumulative_Count', 'pitch_type')\n",
    "\n",
    "        # Format the x-axis date labels (optional)\n",
    "        plt.xticks(rotation=45)\n",
    "\n",
    "        # Set labels and title\n",
    "        plt.xlabel('Date')\n",
    "        plt.ylabel('Aggregate Count')\n",
    "        plt.title(f'Aggregate Counts by Pitch Type by Game Date, {player}, {year}', fontsize=16)\n",
    "\n",
    "        # Show the legend\n",
    "        plt.legend(title='Pitch Type',loc=\"upper left\")\n",
    "\n",
    "        # Display the plot\n",
    "        plt.show()\n",
    "    \n",
    "    return pitch_aggs"
   ]
  },
  {
   "cell_type": "code",
   "execution_count": 152,
   "id": "803842e1",
   "metadata": {},
   "outputs": [],
   "source": [
    "def get_cumulative_freq(agg_data, player, year, plot = True):\n",
    "    '''\n",
    "    Description: Aggregates data for all pitch_types' cumulative relative frequency for each date,\n",
    "    plots lineplot of aggregate data with labels\n",
    "    --------------------------------------------------------------------------------\n",
    "    Inputs: agg_data (dataframe), player (str), year (str/int), plot (boolean, default True)\n",
    "    \n",
    "    Returns: pitch_aggs (dataframe)\n",
    "    '''\n",
    "    \n",
    "    # For each game_date, cumulatively sum number of pitches thrown to find relative frequencies\n",
    "    pitch_total_sum = agg_data.groupby('game_date')['count'].sum().cumsum().reset_index(name = 'season_total')\n",
    "    \n",
    "    # Merges input data (of cumulative count for pitch types), finds cumulative relative frequency\n",
    "    # for each game_date\n",
    "    merged_freq_df = agg_data.merge(pitch_total_sum, on = 'game_date',how='left')\n",
    "    merged_freq_df['Cumulative_Rel_Freq'] = merged_freq_df['Cumulative_Count'] / merged_freq_df['season_total']\n",
    "\n",
    "    # Plots data on lineplot if plot set to True\n",
    "    if plot:\n",
    "        plot_lineplot(merged_freq_df, 'game_date', 'Cumulative_Rel_Freq','pitch_type')\n",
    "        plt.xticks(rotation=45)\n",
    "\n",
    "        # Set labels and title\n",
    "        plt.xlabel('Date')\n",
    "        plt.ylabel('Cumulative Relative Frequency')\n",
    "        plt.title(f'Cumulative Relative Frequency of Pitch Type, {player}, {year}', fontsize=16)\n",
    "\n",
    "        # Show the legend\n",
    "        plt.legend(title='Pitch Type',loc=\"upper left\")\n",
    "\n",
    "        # Display the plot\n",
    "        plt.show()\n",
    "    \n",
    "    return merged_freq_df"
   ]
  },
  {
   "cell_type": "code",
   "execution_count": 154,
   "id": "b4d543a2",
   "metadata": {},
   "outputs": [],
   "source": [
    "all21_aggregates = get_aggregate_count(data21, 'All', 2021)"
   ]
  },
  {
   "cell_type": "code",
   "execution_count": null,
   "id": "7ebe200c",
   "metadata": {},
   "outputs": [],
   "source": [
    "all21_rel_freq = get_cumulative_freq(all21_aggregates, 'All', 2021)"
   ]
  },
  {
   "cell_type": "code",
   "execution_count": null,
   "id": "bac4d2b5",
   "metadata": {},
   "outputs": [],
   "source": [
    "all22_aggregates = get_aggregate_count(data22, 'All', 2022)"
   ]
  },
  {
   "cell_type": "code",
   "execution_count": null,
   "id": "76507540",
   "metadata": {},
   "outputs": [],
   "source": [
    "all22_rel_freq = get_cumulative_freq(all22_aggregates, 'All', 2022)"
   ]
  },
  {
   "cell_type": "markdown",
   "id": "643c3f7d",
   "metadata": {},
   "source": [
    "#### Frequency by Handedness of Batter"
   ]
  },
  {
   "cell_type": "code",
   "execution_count": null,
   "id": "38e28cc9",
   "metadata": {},
   "outputs": [],
   "source": [
    "data21_rhb = data21[data21.stand == 'R']\n",
    "data21_rhb_agg = get_aggregate_count(data21_rhb, 'All RHB', 2021, False)\n",
    "data21_rhb_cumul = get_cumulative_freq(data21_rhb_agg, 'All RHB', 2021)"
   ]
  },
  {
   "cell_type": "code",
   "execution_count": null,
   "id": "af8ebafc",
   "metadata": {},
   "outputs": [],
   "source": [
    "data21_lhb = data21[data21.stand == 'L']\n",
    "data21_lhb_agg = get_aggregate_count(data21_lhb, 'All LHB', 2021, False)\n",
    "data21_lhb_cumul = get_cumulative_freq(data21_lhb_agg, 'All LHB', 2021)"
   ]
  },
  {
   "cell_type": "markdown",
   "id": "9c4cd781",
   "metadata": {},
   "source": [
    "### Relative Frequency per Day"
   ]
  },
  {
   "cell_type": "code",
   "execution_count": null,
   "id": "5911c639",
   "metadata": {},
   "outputs": [],
   "source": [
    "def get_relative_freq(data, player, year, plot = True):\n",
    "    '''\n",
    "    Description: Aggregates data for all pitch_types, finds relative frequency for each pitch  for each date,\n",
    "    plots lineplot of aggregate data with labels\n",
    "    --------------------------------------------------------------------------------\n",
    "    Inputs: data (dataframe), player (str), year (str/int), plot (boolean, default True)\n",
    "    \n",
    "    Returns: pitch_aggs (dataframe)\n",
    "    '''\n",
    "    \n",
    "    # Reorders data, changes game_date to type datetime\n",
    "    data = data[::-1].reset_index(drop=True)\n",
    "    data['game_date'] = pd.to_datetime(data['game_date'])\n",
    "\n",
    "    # Aggregate, Reshape the DataFrame using melt\n",
    "    rel_pitch_aggs = pd.DataFrame(data.groupby(['pitch_type','game_date']).size().unstack(\n",
    "     fill_value=0)).reset_index().melt(id_vars='pitch_type', var_name='game_date', value_name='count')\n",
    "    \n",
    "    # Sort the DataFrame by 'pitch_type' and 'game_date' \n",
    "    rel_aggs_reshaped = rel_pitch_aggs.sort_values(by=['pitch_type', 'game_date']).reset_index(drop=True)\n",
    "    \n",
    "    # Get total pitches thrown for all game_dates\n",
    "    total_pitches = data.groupby('game_date')['pitch_type'].count().reset_index(name='total')\n",
    "    \n",
    "    # Merge dataframes, calculate relative pitch frequency per day\n",
    "    merged_df = rel_aggs_reshaped.merge(total_pitches, on='game_date', how='left')\n",
    "    merged_df['Relative_Freq'] = merged_df['count'] / merged_df['total']\n",
    "    \n",
    "    # Plots lineplot if plot set to True\n",
    "    if plot:\n",
    "        plot_lineplot(merged_df, 'game_date','Relative_Freq','pitch_type')\n",
    "\n",
    "        # Format the x-axis date labels (optional)\n",
    "        plt.xticks(rotation=45)\n",
    "\n",
    "        # Set labels and title\n",
    "        plt.xlabel('Date')\n",
    "        plt.ylabel('Relative Frequency')\n",
    "        plt.title(f'Relative Pitch Frequencies by Pitch Type per Game Date, {player}, {year}', fontsize=16)\n",
    "\n",
    "        # Show the legend\n",
    "        plt.legend(title='Pitch Type',loc=\"upper left\")\n",
    "\n",
    "        # Display the plot\n",
    "        plt.show()\n",
    "    \n",
    "    return merged_df"
   ]
  },
  {
   "cell_type": "code",
   "execution_count": null,
   "id": "5c820548",
   "metadata": {},
   "outputs": [],
   "source": [
    "all21_relative = get_relative_freq(data21, 'All','2021')"
   ]
  },
  {
   "cell_type": "code",
   "execution_count": null,
   "id": "79250285",
   "metadata": {},
   "outputs": [],
   "source": [
    "all22_relative = get_relative_freq(data22, 'All','2022')"
   ]
  },
  {
   "cell_type": "markdown",
   "id": "e92d066e",
   "metadata": {},
   "source": [
    "### Individual Case"
   ]
  },
  {
   "cell_type": "markdown",
   "id": "f210661f",
   "metadata": {},
   "source": [
    "#### Shohei Ohtani"
   ]
  },
  {
   "cell_type": "code",
   "execution_count": null,
   "id": "92d8bf04",
   "metadata": {},
   "outputs": [],
   "source": [
    "test_data = data21.copy()[::-1].reset_index(drop=True)"
   ]
  },
  {
   "cell_type": "code",
   "execution_count": null,
   "id": "e2a23840",
   "metadata": {},
   "outputs": [],
   "source": [
    "ohtani = test_data[test_data.player_name == 'Ohtani, Shohei']"
   ]
  },
  {
   "cell_type": "code",
   "execution_count": null,
   "id": "93204772",
   "metadata": {},
   "outputs": [],
   "source": [
    "ohtani_agg21 = get_aggregate_count(ohtani, 'Shohei Ohtani','2021')"
   ]
  },
  {
   "cell_type": "code",
   "execution_count": null,
   "id": "42883ba6",
   "metadata": {},
   "outputs": [],
   "source": [
    "ohtani21_cumul_freq = get_cumulative_freq(ohtani_agg21, 'Shohei Ohtani', 2021)"
   ]
  },
  {
   "cell_type": "code",
   "execution_count": null,
   "id": "72beb849",
   "metadata": {},
   "outputs": [],
   "source": [
    "ohtani_rel21 = get_relative_freq(ohtani, 'Shohei Ohtani','2021')"
   ]
  },
  {
   "cell_type": "markdown",
   "id": "b6acc1b8",
   "metadata": {},
   "source": [
    "#### Zack Wheeler"
   ]
  },
  {
   "cell_type": "code",
   "execution_count": null,
   "id": "fc0237d5",
   "metadata": {},
   "outputs": [],
   "source": [
    "wheeler = test_data[test_data.player_name == 'Wheeler, Zack']"
   ]
  },
  {
   "cell_type": "code",
   "execution_count": null,
   "id": "8d4e3e95",
   "metadata": {},
   "outputs": [],
   "source": [
    "wheeler_agg21 = get_aggregate_count(wheeler, 'Zack Wheeler','2021', False)\n",
    "wheeler_cumul_freq21 = get_cumulative_freq(wheeler_agg21,'Zack Wheeler', 2021)"
   ]
  },
  {
   "cell_type": "code",
   "execution_count": null,
   "id": "d09260a3",
   "metadata": {},
   "outputs": [],
   "source": [
    "wheeler_rel21 = get_relative_freq(wheeler, 'Zack Wheeler',' 2021')"
   ]
  },
  {
   "cell_type": "code",
   "execution_count": null,
   "id": "02334e2e",
   "metadata": {},
   "outputs": [],
   "source": [
    "wheeler_lhb21 = wheeler[wheeler.stand == 'L']\n",
    "wheeler_rhb21 = wheeler[wheeler.stand == 'R']\n",
    "\n",
    "wheeler_rhb_agg21 = get_aggregate_count(wheeler_rhb21, 'Zack Wheeler (RHB)','2021', False)\n",
    "wheeler_rhb21_cumul = get_cumulative_freq(wheeler_rhb_agg21,'Zack Wheeler (RHB)', 2021)"
   ]
  },
  {
   "cell_type": "code",
   "execution_count": null,
   "id": "54259982",
   "metadata": {},
   "outputs": [],
   "source": [
    "wheeler_lhb_agg21 = get_aggregate_count(wheeler_lhb21, 'Zack Wheeler (LHB)','2021', False)\n",
    "wheeler_lhb21_cumul = get_cumulative_freq(wheeler_lhb_agg21,'Zack Wheeler (LHB)', 2021)"
   ]
  },
  {
   "cell_type": "markdown",
   "id": "055411f2",
   "metadata": {},
   "source": [
    "### Cumulative Relative Frequency: *Pitcher vs. Batter (per AB), Pitcher vs. Batter (per Game)*"
   ]
  },
  {
   "cell_type": "code",
   "execution_count": null,
   "id": "d1cbae3d",
   "metadata": {},
   "outputs": [],
   "source": [
    "# Get cumulative number pitches per AB for all unique ABs\n",
    "pitch_counts_ab = data21.sort_values(\n",
    "    ['game_date','game_pk','at_bat_number','pitch_number']).groupby(\n",
    "    ['game_date','game_pk','player_name','at_bat_number']).cumcount() + 1\n",
    "\n",
    "# Get cumulative number pitches per AB for each unique pitch, AB\n",
    "pitch_type_counts_ab = data21.sort_values(\n",
    "    ['game_date','game_pk','at_bat_number','pitch_number']).groupby(\n",
    "    ['game_date','game_pk','player_name','at_bat_number','pitch_type']).cumcount() + 1"
   ]
  },
  {
   "cell_type": "code",
   "execution_count": null,
   "id": "c0abe7de",
   "metadata": {},
   "outputs": [],
   "source": [
    "# Plot histogram of each pitch's cumulative frequency within each unique AB\n",
    "sns.histplot(pitch_type_counts_ab/pitch_counts_ab)\n",
    "plt.title('Cumulative Relative Frequency of Pitches per AB per Game')"
   ]
  },
  {
   "cell_type": "code",
   "execution_count": null,
   "id": "4a6e1aca",
   "metadata": {},
   "outputs": [],
   "source": [
    "# Get cumulative number pitches per AB for all unique batter v. pitcher matchup per game\n",
    "pitch_counts_hitvpitch = data21.sort_values(\n",
    "    ['game_date','game_pk','at_bat_number','pitch_number']).groupby(\n",
    "    ['game_date','game_pk','player_name','batter']).cumcount() + 1\n",
    "\n",
    "# Get cumulative number pitches per AB for all unique batter v. pitcher matchup per game for each unique pitch\n",
    "pitch_type_counts_hitvpitch = data21.sort_values(\n",
    "    ['game_date','game_pk','at_bat_number','pitch_number']).groupby(\n",
    "    ['game_date','game_pk','player_name','batter','pitch_type']).cumcount() + 1"
   ]
  },
  {
   "cell_type": "code",
   "execution_count": null,
   "id": "c9a84fa7",
   "metadata": {},
   "outputs": [],
   "source": [
    "# Plot histogram of each pitch's cumulative frequency within each unique batter v. pitcher matchup per game\n",
    "\n",
    "sns.histplot(pitch_type_counts_hitvpitch/pitch_counts_hitvpitch)\n",
    "plt.title('Cumulative Relative Frequency of Pitches per Hitter v. Pitcher Matchup per Game')"
   ]
  },
  {
   "cell_type": "markdown",
   "id": "08401674",
   "metadata": {},
   "source": [
    "### Cumulative Relative Frequency *per Outing* - 2021"
   ]
  },
  {
   "cell_type": "code",
   "execution_count": null,
   "id": "c5d6cf3b",
   "metadata": {},
   "outputs": [],
   "source": [
    "# Get cumulative number pitches for all unique pitcher outings (start, relief)\n",
    "pitch_counts = data21.sort_values(\n",
    "    ['game_date','game_pk','at_bat_number','pitch_number']).groupby(\n",
    "    ['game_date','game_pk','player_name']).cumcount() + 1\n",
    "\n",
    "# Get cumulative number pitches  for all unique pitcher outings, for each unique pitch\n",
    "pitch_type_counts = data21.sort_values(\n",
    "    ['game_date','game_pk','at_bat_number','pitch_number']).groupby(\n",
    "    ['game_date','game_pk','player_name','pitch_type']).cumcount() + 1"
   ]
  },
  {
   "cell_type": "code",
   "execution_count": null,
   "id": "50e183a8",
   "metadata": {},
   "outputs": [],
   "source": [
    "# Plot cumulative relative frequency for all pitches for each unique pitcher appearance\n",
    "sns.histplot(pitch_type_counts/pitch_counts)\n",
    "plt.title('Cumulative Relative Frequency of Pitches per Outing')"
   ]
  },
  {
   "cell_type": "markdown",
   "id": "c9eadaac",
   "metadata": {},
   "source": [
    "## Feature Exploration: Velocity, Movement Differentials\n",
    "### Added *after* pitch classifications from clustering analysis"
   ]
  },
  {
   "cell_type": "code",
   "execution_count": 14,
   "id": "2a3dc0a7",
   "metadata": {},
   "outputs": [],
   "source": [
    "#data2023 = statcast('2023-03-30', '2023-10-01', parallel = True)\n",
    "#data2023.to_csv('statcast23.csv',index=False)"
   ]
  },
  {
   "cell_type": "code",
   "execution_count": 161,
   "id": "605170f0",
   "metadata": {},
   "outputs": [],
   "source": [
    "# Groups data by each game_date and pitcher, finds primary fastball \n",
    "# (or primary pitch if no fastball)\n",
    "primary_fb = data21.groupby(['game_date','game_pk','player_name']).agg({\n",
    "    'pitch_type': lambda x: x[x.isin(['FC','SI','FF'])].value_counts().idxmax() \n",
    "    if any(x.isin(['FC','SI','FF'])) \n",
    "    else x.value_counts().idxmax()\n",
    "}).rename(columns={'pitch_type':'primary_pitch'})"
   ]
  },
  {
   "cell_type": "code",
   "execution_count": 164,
   "id": "5eff3037",
   "metadata": {},
   "outputs": [],
   "source": [
    "# Merges training data with primary fastball, defines new columns of primary_pitch\n",
    "primary_fb_data = data21.merge(primary_fb.reset_index(), left_on=['game_date','game_pk','player_name','pitch_type'], \n",
    "             right_on=['game_date','game_pk','player_name','primary_pitch'], how='inner')"
   ]
  },
  {
   "cell_type": "code",
   "execution_count": 166,
   "id": "a94a1be8",
   "metadata": {},
   "outputs": [],
   "source": [
    "# Define velocity, movement variables to calculate differentials from primary pitch\n",
    "velo_mvt_cols = ['release_speed','release_spin_rate','pfx_x', 'pfx_z', \n",
    "                 'vx0', 'vy0', 'vz0', 'ax', 'ay', 'az', 'spin_axis', 'inferred_axis','axis_diff',\n",
    "                \"release_pos_x\",\"release_pos_y\",\"release_pos_z\"]\n",
    "\n",
    "# Calculates mean for velocity, movement variables for each primary pitch for each pitcher per outing\n",
    "primary_fb_means = primary_fb_data.groupby(['game_date','game_pk','player_name','pitch_type']).agg({\n",
    "    i: 'mean' for i in velo_mvt_cols}).rename(columns = {\n",
    "    i: i + '_mean' for i in velo_mvt_cols\n",
    "}).reset_index()\n",
    "primary_fb_means = primary_fb_means.rename(columns={'pitch_type':'primary_pitch'})\n",
    "\n",
    "# Merges training data with primary pitch mean data\n",
    "data21_merged = data21.merge(primary_fb_means, on = ['game_date','game_pk','player_name'], how = 'inner')"
   ]
  },
  {
   "cell_type": "code",
   "execution_count": 168,
   "id": "b14c9e0f",
   "metadata": {},
   "outputs": [],
   "source": [
    "# Calculates all differentials for velocity and movenent profiles, release point\n",
    "data21_merged['release_x_diff'] = data21_merged['release_pos_x'] - data21_merged['release_pos_x_mean']\n",
    "data21_merged['release_y_diff'] = data21_merged['release_pos_y'] - data21_merged['release_pos_y_mean']\n",
    "data21_merged['release_z_diff'] = data21_merged['release_pos_z'] - data21_merged['release_pos_z_mean']\n",
    "data21_merged['velo_diff'] = data21_merged['release_speed'] - data21_merged['release_speed_mean']\n",
    "data21_merged['spin_rate_diff'] = data21_merged['release_spin_rate'] - data21_merged['release_spin_rate_mean']\n",
    "data21_merged['pfx_x_diff'] = data21_merged['pfx_x'] - data21_merged['pfx_x_mean']\n",
    "data21_merged['pfx_z_diff'] = data21_merged['pfx_z'] - data21_merged['pfx_z_mean']\n",
    "data21_merged['vx0_diff'] = data21_merged['vx0'] - data21_merged['vx0_mean']\n",
    "data21_merged['vy0_diff'] = data21_merged['vy0'] - data21_merged['vy0_mean']\n",
    "data21_merged['vz0_diff'] = data21_merged['vz0'] - data21_merged['vz0_mean']\n",
    "data21_merged['ax_diff'] = data21_merged['ax'] - data21_merged['ax_mean']\n",
    "data21_merged['ay_diff'] = data21_merged['ay'] - data21_merged['ay_mean']\n",
    "data21_merged['az_diff'] = data21_merged['az'] - data21_merged['az_mean']\n",
    "data21_merged['spin_axis_diff'] = data21_merged['spin_axis'] - data21_merged['spin_axis_mean']\n",
    "data21_merged['inferred_axis_diff'] = data21_merged['inferred_axis'] - data21_merged['inferred_axis_mean']\n",
    "data21_merged['axis_diff_diff'] = data21_merged['axis_diff'] - data21_merged['axis_diff_mean']\n",
    "\n",
    "\n",
    "# Drops all primary pitch velocity, movement mean columns\n",
    "data21_merged = data21_merged.drop(['primary_pitch'] + [i + '_mean' for i in velo_mvt_cols],axis = 1)"
   ]
  },
  {
   "cell_type": "markdown",
   "id": "61873ad4",
   "metadata": {},
   "source": [
    "## Feature Exploration: \"Noise\" of Pitch Metrics\n",
    "\n",
    "### To be applied *after* clustering pitches for pitch classifications"
   ]
  },
  {
   "cell_type": "code",
   "execution_count": 170,
   "id": "94560a81",
   "metadata": {
    "scrolled": true
   },
   "outputs": [],
   "source": [
    "# For \"noise\" around pitch trajectory, calculate a multivariate normal distribution\n",
    "# for each unique pitch thrown for each pitcher over a season\n",
    "\n",
    "# Note: Calculating multivariate distributions for eachn pitch per game is \n",
    "# both extremely computationally intensive, and each distribution unstable due to small samples\n",
    "# of each pitch per game\n",
    "\n",
    "# Note: Does not include axis_diff for this iteration\n",
    "\n",
    "# Define all continuous features \n",
    "cont_feats = ['release_speed','release_extension','effective_speed',\n",
    "'release_spin_rate','release_pos_x', 'release_pos_y', 'release_pos_z',\n",
    "'pfx_x', 'pfx_z', 'vx0', 'vy0', 'vz0', 'ax', 'ay', 'az', 'spin_axis','inferred_axis','axis_diff']\n",
    "\n",
    "def multivariate_normal_distribution(x):\n",
    "    '''\n",
    "    Description: Applied to each group, calculate multivariate normal distribution\n",
    "    for each row's continuous features with mean and covariance matrix\n",
    "    --------------------------------------------------------------------------------\n",
    "    Inputs: x (dataframe row, Series)\n",
    "    \n",
    "    Returns: mvn_dist, SciPy multivariate normal distribution\n",
    "    '''\n",
    "    \n",
    "    # Extract the continuous variables\n",
    "    continuous_vars = x[cont_feats]  \n",
    "    \n",
    "    # Calculate the mean and covariance matrix for the continuous variables\n",
    "    mean = continuous_vars.mean()\n",
    "    cov_matrix = continuous_vars.cov().fillna(0) + (np.eye(continuous_vars.cov().shape[0]) * 1e-6)\n",
    "    \n",
    "    # Create a multivariate normal distribution object\n",
    "    mvn_dist = multivariate_normal(mean=mean, cov=cov_matrix, allow_singular=True)\n",
    "    \n",
    "    return mvn_dist\n",
    "\n",
    "# Applies multivariate normal to all unique pitches for each pitcher per year(> 3000 pitches per year)\n",
    "pitch_noise_groups = data21.groupby(['player_name','pitch_type']).apply(\n",
    "    multivariate_normal_distribution).reset_index(name = 'MV_Dist')\n"
   ]
  },
  {
   "cell_type": "code",
   "execution_count": 172,
   "id": "af8a3dcf",
   "metadata": {},
   "outputs": [],
   "source": [
    "def calc_mahalanobis(x):\n",
    "    '''\n",
    "    Description: Calculates mahalanobis distance of each pitch's continuous features\n",
    "    from center, inverse covariance matrix of distribution\n",
    "    --------------------------------------------------------------------------------\n",
    "    Inputs: x (type Series)\n",
    "    \n",
    "    Returns: mahalanobis_distance (type float)\n",
    "    '''\n",
    "    # Defines distribution, continuous features\n",
    "    distribution = x[-1]\n",
    "    data = np.array(x[:-1])\n",
    "    \n",
    "    # Calculates distance\n",
    "    mahalanobis_distance= mahalanobis(data, distribution.mean, np.linalg.inv(distribution.cov))\n",
    "    return mahalanobis_distance"
   ]
  },
  {
   "cell_type": "code",
   "execution_count": 173,
   "id": "ca0575c1",
   "metadata": {},
   "outputs": [
    {
     "data": {
      "text/html": [
       "<div>\n",
       "<style scoped>\n",
       "    .dataframe tbody tr th:only-of-type {\n",
       "        vertical-align: middle;\n",
       "    }\n",
       "\n",
       "    .dataframe tbody tr th {\n",
       "        vertical-align: top;\n",
       "    }\n",
       "\n",
       "    .dataframe thead th {\n",
       "        text-align: right;\n",
       "    }\n",
       "</style>\n",
       "<table border=\"1\" class=\"dataframe\">\n",
       "  <thead>\n",
       "    <tr style=\"text-align: right;\">\n",
       "      <th></th>\n",
       "      <th>delta_run_exp</th>\n",
       "      <th>description</th>\n",
       "      <th>bb_type</th>\n",
       "      <th>game_pk</th>\n",
       "      <th>game_date</th>\n",
       "      <th>player_name</th>\n",
       "      <th>batter</th>\n",
       "      <th>pitch_type</th>\n",
       "      <th>at_bat_number</th>\n",
       "      <th>pitch_number</th>\n",
       "      <th>...</th>\n",
       "      <th>plate_x</th>\n",
       "      <th>plate_z</th>\n",
       "      <th>launch_speed</th>\n",
       "      <th>launch_angle</th>\n",
       "      <th>hc_x</th>\n",
       "      <th>hc_y</th>\n",
       "      <th>inferred_axis</th>\n",
       "      <th>axis_diff</th>\n",
       "      <th>pitch_count</th>\n",
       "      <th>mahalanobis</th>\n",
       "    </tr>\n",
       "  </thead>\n",
       "  <tbody>\n",
       "    <tr>\n",
       "      <th>0</th>\n",
       "      <td>-0.049</td>\n",
       "      <td>foul</td>\n",
       "      <td>NaN</td>\n",
       "      <td>634615</td>\n",
       "      <td>2021-04-01</td>\n",
       "      <td>Márquez, Germán</td>\n",
       "      <td>605141</td>\n",
       "      <td>FF</td>\n",
       "      <td>1</td>\n",
       "      <td>2</td>\n",
       "      <td>...</td>\n",
       "      <td>0.19</td>\n",
       "      <td>2.6</td>\n",
       "      <td>77.7</td>\n",
       "      <td>39</td>\n",
       "      <td>&lt;NA&gt;</td>\n",
       "      <td>&lt;NA&gt;</td>\n",
       "      <td>195.859366</td>\n",
       "      <td>-0.859366</td>\n",
       "      <td>1</td>\n",
       "      <td>10.458524</td>\n",
       "    </tr>\n",
       "    <tr>\n",
       "      <th>1</th>\n",
       "      <td>0.052</td>\n",
       "      <td>ball</td>\n",
       "      <td>NaN</td>\n",
       "      <td>634615</td>\n",
       "      <td>2021-04-01</td>\n",
       "      <td>Márquez, Germán</td>\n",
       "      <td>605141</td>\n",
       "      <td>FF</td>\n",
       "      <td>1</td>\n",
       "      <td>3</td>\n",
       "      <td>...</td>\n",
       "      <td>-0.61</td>\n",
       "      <td>3.65</td>\n",
       "      <td>&lt;NA&gt;</td>\n",
       "      <td>&lt;NA&gt;</td>\n",
       "      <td>&lt;NA&gt;</td>\n",
       "      <td>&lt;NA&gt;</td>\n",
       "      <td>206.029592</td>\n",
       "      <td>1.970408</td>\n",
       "      <td>2</td>\n",
       "      <td>2.916350</td>\n",
       "    </tr>\n",
       "    <tr>\n",
       "      <th>2</th>\n",
       "      <td>-0.077</td>\n",
       "      <td>called_strike</td>\n",
       "      <td>NaN</td>\n",
       "      <td>634615</td>\n",
       "      <td>2021-04-01</td>\n",
       "      <td>Márquez, Germán</td>\n",
       "      <td>605141</td>\n",
       "      <td>FF</td>\n",
       "      <td>1</td>\n",
       "      <td>5</td>\n",
       "      <td>...</td>\n",
       "      <td>0.07</td>\n",
       "      <td>3.09</td>\n",
       "      <td>&lt;NA&gt;</td>\n",
       "      <td>&lt;NA&gt;</td>\n",
       "      <td>&lt;NA&gt;</td>\n",
       "      <td>&lt;NA&gt;</td>\n",
       "      <td>191.181754</td>\n",
       "      <td>20.818246</td>\n",
       "      <td>3</td>\n",
       "      <td>3.403854</td>\n",
       "    </tr>\n",
       "    <tr>\n",
       "      <th>3</th>\n",
       "      <td>0.701</td>\n",
       "      <td>hit_into_play</td>\n",
       "      <td>line_drive</td>\n",
       "      <td>634615</td>\n",
       "      <td>2021-04-01</td>\n",
       "      <td>Márquez, Germán</td>\n",
       "      <td>608369</td>\n",
       "      <td>FF</td>\n",
       "      <td>2</td>\n",
       "      <td>1</td>\n",
       "      <td>...</td>\n",
       "      <td>-0.15</td>\n",
       "      <td>2.49</td>\n",
       "      <td>96.3</td>\n",
       "      <td>8</td>\n",
       "      <td>65.34</td>\n",
       "      <td>122.03</td>\n",
       "      <td>196.898649</td>\n",
       "      <td>19.101351</td>\n",
       "      <td>5</td>\n",
       "      <td>3.641072</td>\n",
       "    </tr>\n",
       "    <tr>\n",
       "      <th>4</th>\n",
       "      <td>-0.109</td>\n",
       "      <td>foul</td>\n",
       "      <td>NaN</td>\n",
       "      <td>634615</td>\n",
       "      <td>2021-04-01</td>\n",
       "      <td>Márquez, Germán</td>\n",
       "      <td>457759</td>\n",
       "      <td>FF</td>\n",
       "      <td>3</td>\n",
       "      <td>2</td>\n",
       "      <td>...</td>\n",
       "      <td>-0.33</td>\n",
       "      <td>1.6</td>\n",
       "      <td>74.5</td>\n",
       "      <td>-23</td>\n",
       "      <td>&lt;NA&gt;</td>\n",
       "      <td>&lt;NA&gt;</td>\n",
       "      <td>232.284024</td>\n",
       "      <td>-30.284024</td>\n",
       "      <td>7</td>\n",
       "      <td>6.583423</td>\n",
       "    </tr>\n",
       "    <tr>\n",
       "      <th>...</th>\n",
       "      <td>...</td>\n",
       "      <td>...</td>\n",
       "      <td>...</td>\n",
       "      <td>...</td>\n",
       "      <td>...</td>\n",
       "      <td>...</td>\n",
       "      <td>...</td>\n",
       "      <td>...</td>\n",
       "      <td>...</td>\n",
       "      <td>...</td>\n",
       "      <td>...</td>\n",
       "      <td>...</td>\n",
       "      <td>...</td>\n",
       "      <td>...</td>\n",
       "      <td>...</td>\n",
       "      <td>...</td>\n",
       "      <td>...</td>\n",
       "      <td>...</td>\n",
       "      <td>...</td>\n",
       "      <td>...</td>\n",
       "      <td>...</td>\n",
       "    </tr>\n",
       "    <tr>\n",
       "      <th>701608</th>\n",
       "      <td>0.0</td>\n",
       "      <td>foul</td>\n",
       "      <td>NaN</td>\n",
       "      <td>632246</td>\n",
       "      <td>2021-10-03</td>\n",
       "      <td>Domínguez, Seranthony</td>\n",
       "      <td>571918</td>\n",
       "      <td>SL</td>\n",
       "      <td>50</td>\n",
       "      <td>5</td>\n",
       "      <td>...</td>\n",
       "      <td>0.73</td>\n",
       "      <td>1.7</td>\n",
       "      <td>&lt;NA&gt;</td>\n",
       "      <td>&lt;NA&gt;</td>\n",
       "      <td>&lt;NA&gt;</td>\n",
       "      <td>&lt;NA&gt;</td>\n",
       "      <td>103.781597</td>\n",
       "      <td>-0.781597</td>\n",
       "      <td>7</td>\n",
       "      <td>1.500000</td>\n",
       "    </tr>\n",
       "    <tr>\n",
       "      <th>701609</th>\n",
       "      <td>-0.114</td>\n",
       "      <td>swinging_strike</td>\n",
       "      <td>NaN</td>\n",
       "      <td>632246</td>\n",
       "      <td>2021-10-03</td>\n",
       "      <td>Domínguez, Seranthony</td>\n",
       "      <td>571918</td>\n",
       "      <td>SL</td>\n",
       "      <td>50</td>\n",
       "      <td>6</td>\n",
       "      <td>...</td>\n",
       "      <td>0.79</td>\n",
       "      <td>2.01</td>\n",
       "      <td>&lt;NA&gt;</td>\n",
       "      <td>&lt;NA&gt;</td>\n",
       "      <td>&lt;NA&gt;</td>\n",
       "      <td>&lt;NA&gt;</td>\n",
       "      <td>96.458816</td>\n",
       "      <td>-22.458816</td>\n",
       "      <td>8</td>\n",
       "      <td>1.500000</td>\n",
       "    </tr>\n",
       "    <tr>\n",
       "      <th>701610</th>\n",
       "      <td>0.024</td>\n",
       "      <td>ball</td>\n",
       "      <td>NaN</td>\n",
       "      <td>632246</td>\n",
       "      <td>2021-10-03</td>\n",
       "      <td>Domínguez, Seranthony</td>\n",
       "      <td>663743</td>\n",
       "      <td>SL</td>\n",
       "      <td>51</td>\n",
       "      <td>2</td>\n",
       "      <td>...</td>\n",
       "      <td>0.89</td>\n",
       "      <td>0.83</td>\n",
       "      <td>&lt;NA&gt;</td>\n",
       "      <td>&lt;NA&gt;</td>\n",
       "      <td>&lt;NA&gt;</td>\n",
       "      <td>&lt;NA&gt;</td>\n",
       "      <td>81.304497</td>\n",
       "      <td>22.695503</td>\n",
       "      <td>10</td>\n",
       "      <td>1.500000</td>\n",
       "    </tr>\n",
       "    <tr>\n",
       "      <th>701611</th>\n",
       "      <td>0.043</td>\n",
       "      <td>ball</td>\n",
       "      <td>NaN</td>\n",
       "      <td>632246</td>\n",
       "      <td>2021-10-03</td>\n",
       "      <td>Domínguez, Seranthony</td>\n",
       "      <td>663743</td>\n",
       "      <td>SL</td>\n",
       "      <td>51</td>\n",
       "      <td>5</td>\n",
       "      <td>...</td>\n",
       "      <td>-0.11</td>\n",
       "      <td>0.71</td>\n",
       "      <td>&lt;NA&gt;</td>\n",
       "      <td>&lt;NA&gt;</td>\n",
       "      <td>&lt;NA&gt;</td>\n",
       "      <td>&lt;NA&gt;</td>\n",
       "      <td>96.766175</td>\n",
       "      <td>8.233825</td>\n",
       "      <td>13</td>\n",
       "      <td>1.500000</td>\n",
       "    </tr>\n",
       "    <tr>\n",
       "      <th>701612</th>\n",
       "      <td>0.038</td>\n",
       "      <td>ball</td>\n",
       "      <td>NaN</td>\n",
       "      <td>632252</td>\n",
       "      <td>2021-10-03</td>\n",
       "      <td>Alexander, Tyler</td>\n",
       "      <td>660162</td>\n",
       "      <td>CU</td>\n",
       "      <td>47</td>\n",
       "      <td>1</td>\n",
       "      <td>...</td>\n",
       "      <td>1.27</td>\n",
       "      <td>2.58</td>\n",
       "      <td>&lt;NA&gt;</td>\n",
       "      <td>&lt;NA&gt;</td>\n",
       "      <td>&lt;NA&gt;</td>\n",
       "      <td>&lt;NA&gt;</td>\n",
       "      <td>317.121096</td>\n",
       "      <td>-42.121096</td>\n",
       "      <td>68</td>\n",
       "      <td>0.000000</td>\n",
       "    </tr>\n",
       "  </tbody>\n",
       "</table>\n",
       "<p>701613 rows × 43 columns</p>\n",
       "</div>"
      ],
      "text/plain": [
       "        delta_run_exp      description     bb_type  game_pk  game_date  \\\n",
       "0              -0.049             foul         NaN   634615 2021-04-01   \n",
       "1               0.052             ball         NaN   634615 2021-04-01   \n",
       "2              -0.077    called_strike         NaN   634615 2021-04-01   \n",
       "3               0.701    hit_into_play  line_drive   634615 2021-04-01   \n",
       "4              -0.109             foul         NaN   634615 2021-04-01   \n",
       "...               ...              ...         ...      ...        ...   \n",
       "701608            0.0             foul         NaN   632246 2021-10-03   \n",
       "701609         -0.114  swinging_strike         NaN   632246 2021-10-03   \n",
       "701610          0.024             ball         NaN   632246 2021-10-03   \n",
       "701611          0.043             ball         NaN   632246 2021-10-03   \n",
       "701612          0.038             ball         NaN   632252 2021-10-03   \n",
       "\n",
       "                  player_name  batter pitch_type  at_bat_number  pitch_number  \\\n",
       "0             Márquez, Germán  605141         FF              1             2   \n",
       "1             Márquez, Germán  605141         FF              1             3   \n",
       "2             Márquez, Germán  605141         FF              1             5   \n",
       "3             Márquez, Germán  608369         FF              2             1   \n",
       "4             Márquez, Germán  457759         FF              3             2   \n",
       "...                       ...     ...        ...            ...           ...   \n",
       "701608  Domínguez, Seranthony  571918         SL             50             5   \n",
       "701609  Domínguez, Seranthony  571918         SL             50             6   \n",
       "701610  Domínguez, Seranthony  663743         SL             51             2   \n",
       "701611  Domínguez, Seranthony  663743         SL             51             5   \n",
       "701612       Alexander, Tyler  660162         CU             47             1   \n",
       "\n",
       "        ... plate_x plate_z launch_speed  launch_angle   hc_x    hc_y  \\\n",
       "0       ...    0.19     2.6         77.7            39   <NA>    <NA>   \n",
       "1       ...   -0.61    3.65         <NA>          <NA>   <NA>    <NA>   \n",
       "2       ...    0.07    3.09         <NA>          <NA>   <NA>    <NA>   \n",
       "3       ...   -0.15    2.49         96.3             8  65.34  122.03   \n",
       "4       ...   -0.33     1.6         74.5           -23   <NA>    <NA>   \n",
       "...     ...     ...     ...          ...           ...    ...     ...   \n",
       "701608  ...    0.73     1.7         <NA>          <NA>   <NA>    <NA>   \n",
       "701609  ...    0.79    2.01         <NA>          <NA>   <NA>    <NA>   \n",
       "701610  ...    0.89    0.83         <NA>          <NA>   <NA>    <NA>   \n",
       "701611  ...   -0.11    0.71         <NA>          <NA>   <NA>    <NA>   \n",
       "701612  ...    1.27    2.58         <NA>          <NA>   <NA>    <NA>   \n",
       "\n",
       "        inferred_axis  axis_diff  pitch_count  mahalanobis  \n",
       "0          195.859366  -0.859366            1    10.458524  \n",
       "1          206.029592   1.970408            2     2.916350  \n",
       "2          191.181754  20.818246            3     3.403854  \n",
       "3          196.898649  19.101351            5     3.641072  \n",
       "4          232.284024 -30.284024            7     6.583423  \n",
       "...               ...        ...          ...          ...  \n",
       "701608     103.781597  -0.781597            7     1.500000  \n",
       "701609      96.458816 -22.458816            8     1.500000  \n",
       "701610      81.304497  22.695503           10     1.500000  \n",
       "701611      96.766175   8.233825           13     1.500000  \n",
       "701612     317.121096 -42.121096           68     0.000000  \n",
       "\n",
       "[701613 rows x 43 columns]"
      ]
     },
     "execution_count": 173,
     "metadata": {},
     "output_type": "execute_result"
    }
   ],
   "source": [
    "# Merges dataframes of training data, dataframe with multivariate distributions,\n",
    "# so each unique pitch's distribution included in column for each pitch in training data\n",
    "data21_merged2 = data21.merge(pitch_noise_groups, on = ['player_name','pitch_type'], how = 'inner')\n",
    "\n",
    "# Calculate mahalanobis distance for all unique pitch's continuous features based on \n",
    "# center and inverse covariance matrix of each pitch's multivariate distribution\n",
    "data21_merged2['mahalanobis'] = data21_merged2[cont_feats + ['MV_Dist']].apply(\n",
    "    calc_mahalanobis, axis = 1)\n",
    "\n",
    "# Drops all multivariate normal distributions\n",
    "data21_merged2 = data21_merged2.drop('MV_Dist',axis = 1)\n",
    "data21_merged2"
   ]
  },
  {
   "cell_type": "code",
   "execution_count": 183,
   "id": "8045f2e1",
   "metadata": {},
   "outputs": [
    {
     "data": {
      "text/plain": [
       "Index(['delta_run_exp', 'description', 'bb_type', 'game_pk', 'game_date',\n",
       "       'player_name', 'batter', 'pitch_type', 'at_bat_number', 'pitch_number',\n",
       "       'home_team', 'p_throws', 'stand', 'balls', 'strikes', 'sz_top',\n",
       "       'sz_bot', 'release_speed', 'release_extension', 'effective_speed',\n",
       "       'release_spin_rate', 'release_pos_x', 'release_pos_y', 'release_pos_z',\n",
       "       'spin_axis', 'pfx_x', 'pfx_z', 'vx0', 'vy0', 'vz0', 'ax', 'ay', 'az',\n",
       "       'plate_x', 'plate_z', 'launch_speed', 'launch_angle', 'hc_x', 'hc_y',\n",
       "       'inferred_axis', 'axis_diff', 'pitch_count', 'mahalanobis'],\n",
       "      dtype='object')"
      ]
     },
     "execution_count": 183,
     "metadata": {},
     "output_type": "execute_result"
    }
   ],
   "source": [
    "data21_merged2.columns"
   ]
  },
  {
   "cell_type": "markdown",
   "id": "cd5680a1",
   "metadata": {},
   "source": [
    "### Examples"
   ]
  },
  {
   "cell_type": "code",
   "execution_count": 174,
   "id": "5d440eda",
   "metadata": {},
   "outputs": [
    {
     "data": {
      "text/plain": [
       "Text(0.5, 1.0, 'Mahalanobis Distance by Pitch Type, Zack Wheeler 2021')"
      ]
     },
     "execution_count": 174,
     "metadata": {},
     "output_type": "execute_result"
    },
    {
     "data": {
      "image/png": "[encoded data removed]",
      "text/plain": [
       "<Figure size 640x480 with 1 Axes>"
      ]
     },
     "metadata": {},
     "output_type": "display_data"
    }
   ],
   "source": [
    "name = 'Wheeler, Zack'\n",
    "wheeler_21 = data21_merged2[data21_merged2.player_name == name]\n",
    "\n",
    "sns.histplot(\n",
    "    wheeler_21, x=\"mahalanobis\", y=\"pitch_type\", hue=\"pitch_type\", legend=False\n",
    ")\n",
    "\n",
    "plt.title(f'Mahalanobis Distance by Pitch Type, Zack Wheeler 2021')"
   ]
  },
  {
   "cell_type": "code",
   "execution_count": 175,
   "id": "e0a03bd0",
   "metadata": {},
   "outputs": [
    {
     "data": {
      "text/plain": [
       "Text(0.5, 1.0, 'Mahalanobis Distance by Pitch Type, Clayton Kershaw 2021')"
      ]
     },
     "execution_count": 175,
     "metadata": {},
     "output_type": "execute_result"
    },
    {
     "data": {
      "image/png": "[encoded data removed]",
      "text/plain": [
       "<Figure size 640x480 with 1 Axes>"
      ]
     },
     "metadata": {},
     "output_type": "display_data"
    }
   ],
   "source": [
    "name = 'Kershaw, Clayton'\n",
    "kershaw_21 = data21_merged2[data21_merged2.player_name == name]\n",
    "\n",
    "sns.histplot(\n",
    "    kershaw_21, x=\"mahalanobis\", y=\"pitch_type\", hue=\"pitch_type\", legend=False\n",
    ")\n",
    "\n",
    "plt.title(f'Mahalanobis Distance by Pitch Type, Clayton Kershaw 2021')"
   ]
  },
  {
   "cell_type": "code",
   "execution_count": 176,
   "id": "364ec5c8",
   "metadata": {},
   "outputs": [
    {
     "data": {
      "text/plain": [
       "Text(0.5, 1.0, 'Mahalanobis Distance by Pitch Type, Kenley Jansen 2021')"
      ]
     },
     "execution_count": 176,
     "metadata": {},
     "output_type": "execute_result"
    },
    {
     "data": {
      "image/png": "[encoded data removed]",
      "text/plain": [
       "<Figure size 640x480 with 1 Axes>"
      ]
     },
     "metadata": {},
     "output_type": "display_data"
    }
   ],
   "source": [
    "name = 'Jansen, Kenley'\n",
    "jansen_21 = data21_merged2[data21_merged2.player_name == name]\n",
    "\n",
    "sns.histplot(\n",
    "    jansen_21, x=\"mahalanobis\", y=\"pitch_type\", hue=\"pitch_type\", legend=False\n",
    ")\n",
    "\n",
    "plt.title(f'Mahalanobis Distance by Pitch Type, Kenley Jansen 2021')"
   ]
  },
  {
   "cell_type": "code",
   "execution_count": 177,
   "id": "c666bf67",
   "metadata": {},
   "outputs": [
    {
     "data": {
      "text/plain": [
       "Text(0.5, 1.0, 'Mahalanobis Distance by Pitch Type, Aroldis Chapman 2021')"
      ]
     },
     "execution_count": 177,
     "metadata": {},
     "output_type": "execute_result"
    },
    {
     "data": {
      "image/png": "[encoded data removed]",
      "text/plain": [
       "<Figure size 640x480 with 1 Axes>"
      ]
     },
     "metadata": {},
     "output_type": "display_data"
    }
   ],
   "source": [
    "name = 'Chapman, Aroldis'\n",
    "chapman_21 = data21_merged2[data21_merged2.player_name == name]\n",
    "\n",
    "sns.histplot(\n",
    "    chapman_21, x=\"mahalanobis\", y=\"pitch_type\", hue=\"pitch_type\", legend=False\n",
    ")\n",
    "\n",
    "plt.title(f'Mahalanobis Distance by Pitch Type, Aroldis Chapman 2021')"
   ]
  },
  {
   "cell_type": "markdown",
   "id": "ae1bd5d0",
   "metadata": {},
   "source": [
    "# Pitch Classifications: Two-Seam vs. Sinker"
   ]
  },
  {
   "cell_type": "code",
   "execution_count": null,
   "id": "92de5f2e",
   "metadata": {},
   "outputs": [],
   "source": []
  },
  {
   "cell_type": "markdown",
   "id": "2d0628cd",
   "metadata": {},
   "source": [
    "# Clustering"
   ]
  },
  {
   "cell_type": "markdown",
   "id": "e44013c1",
   "metadata": {},
   "source": [
    "### PCA Variance of Training Data"
   ]
  },
  {
   "cell_type": "code",
   "execution_count": null,
   "id": "12ba560b",
   "metadata": {
    "scrolled": false
   },
   "outputs": [],
   "source": [
    "# Define column transformer for different scalers\n",
    "pca_scale_features = ['release_speed','release_extension','effective_speed',\n",
    "                          'release_spin_rate','release_pos_x', 'release_pos_y', 'release_pos_z',\n",
    "                          'spin_axis','axis_diff', 'inferred_axis', 'pfx_x', 'pfx_z',\n",
    "                          'vx0', 'vy0', 'vz0', 'ax', 'ay', 'az', 'sz_top', 'sz_bot']\n",
    "\n",
    "#pca_cat_features = ['p_throws','stand','pitch_number',\n",
    "#    'home_team','game_week','balls','strikes','outs_when_up']\n",
    "\n",
    "pca_preprocessor = ColumnTransformer(\n",
    "    transformers=[\n",
    "        ('standard_scale', StandardScaler(), pca_scale_features), # StandardScaler for continuous features\n",
    "        #('categorical', OneHotEncoder(), pca_cat_features) # OneHotEncoder for categorical features\n",
    "    ])\n",
    "\n",
    "# Define PCA as TruncatedSVD\n",
    "pca_alldata = TruncatedSVD(n_components=10, random_state = 15)\n",
    "\n",
    "# Create pipeline\n",
    "pca_pipeline_alldata = Pipeline(steps=[\n",
    "  ('preprocessor', pca_preprocessor),\n",
    "  ('pca', pca_alldata)\n",
    "])\n",
    "\n",
    "# Concatenate all training data\n",
    "# Apply PCA, plot variance for each of 10 principal components\n",
    "all_data = pd.concat([data21, data22])\n",
    "\n",
    "pca_pipeline_alldata.fit_transform(all_data)\n",
    "\n",
    "# Plot the cumulative explained variance\n",
    "variance = pca_pipeline_alldata.named_steps['pca'].explained_variance_ratio_\n",
    "\n",
    "plt.figure(figsize=(10, 5))\n",
    "plt.bar(range(1, len(variance) + 1), variance)\n",
    "plt.title('Elbow Plot, PCA Training Data')\n",
    "plt.xlabel('Number of Components')\n",
    "plt.ylabel('Explained Variance')\n",
    "plt.grid(True)\n",
    "plt.show()"
   ]
  },
  {
   "cell_type": "markdown",
   "id": "d289239b",
   "metadata": {},
   "source": [
    "### Clustering Scheme"
   ]
  },
  {
   "cell_type": "code",
   "execution_count": null,
   "id": "d529e977",
   "metadata": {},
   "outputs": [],
   "source": [
    "def create_scatterplot_subplot(input_data, x_vars, y_vars, hue_var, title = None, inp_ax = None):\n",
    "    \"\"\"\n",
    "    Create a scatterplot with colors for categorical variables.\n",
    "    Available to do multiple columns in a subplot or add a single plot to an existing figure.\n",
    "\n",
    "    Parameters:\n",
    "        df (DataFrame): The input DataFrame containing the data. (Filtered)\n",
    "        x_vars (list of str): List of three variables for the x-axis.\n",
    "        y_vars (list of str): List of three variables for the y-axis.\n",
    "        hue_var (str): The variable for coloring the points.\n",
    "\n",
    "    Returns: None \n",
    "    \"\"\"\n",
    "    # plot single scatterplot or multiple depending on number of variables passed\n",
    "    if len(x_vars) == 1:\n",
    "        \n",
    "        sns.scatterplot(data= input_data, x=x_vars[0], \n",
    "                        y=y_vars[0], hue=hue_var, palette='Set1', ax = inp_ax)\n",
    "        \n",
    "        if inp_ax != None:\n",
    "            inp_ax.set_title(title, fontsize=12)\n",
    "    else:\n",
    "        num_cols = len(x_vars)\n",
    "        num_rows = 1  \n",
    "        fig, axe = plt.subplots(num_rows, num_cols, figsize=(4*num_cols, 4))\n",
    "        \n",
    "        for i, (x_var, y_var) in enumerate(zip(x_vars, y_vars)):\n",
    "            sns.scatterplot(data =input_data, x=x_var, y=y_var, hue=hue_var, palette='Set1',ax = axe[i])\n",
    "            axe[i].set_title(f'{x_var} vs {y_var}')\n",
    "            axe[i].set_xlabel(x_var)\n",
    "            axe[i].set_ylabel(y_var)"
   ]
  },
  {
   "cell_type": "code",
   "execution_count": null,
   "id": "2c7af638",
   "metadata": {
    "scrolled": false
   },
   "outputs": [],
   "source": [
    "def cluster_pitchdata(name, pitch_data, df_out):\n",
    "    \"\"\"\n",
    "    Do clustering analysis of pitch types for each unique pitcher,\n",
    "    Determine appropriate # of clusters, choose to add new classifications or keep old ones\n",
    "\n",
    "    Parameters:\n",
    "        name (str): Name of pitcher\n",
    "        pitch_data (pandas DataFrame): DataFrame of pitch data\n",
    "        df_out (pandas DataFrame): DataFrame of pitch data with clustering analysis done\n",
    "\n",
    "    Returns: df_out, df with clustering analysis done\n",
    "    \"\"\"\n",
    "    \n",
    "    # Define dataframe of pitch data for specific pitcher, ground-truth pitch classifications\n",
    "    df = pitch_data[pitch_data.player_name == name].reset_index(drop=True)\n",
    "    df_hue = df.pitch_type.reset_index(drop=True)\n",
    "    df = df.drop(['player_name','pitch_type'],axis=1)\n",
    "    #,'batter','game_pk','game_date'\n",
    "\n",
    "    \n",
    "    # Define the column transformer for different scalers\n",
    "    standardscale_features = ['release_speed','release_extension','effective_speed',\n",
    "                          'release_spin_rate','release_pos_x', 'release_pos_y', 'release_pos_z',\n",
    "                          'spin_axis','inferred_axis','axis_diff','pfx_x', 'pfx_z',\n",
    "                          'vx0', 'vy0', 'vz0', 'ax', 'ay', 'az', 'sz_top', 'sz_bot']\n",
    "\n",
    "    preprocessor = ColumnTransformer(\n",
    "    transformers=[\n",
    "        ('standard_scale', StandardScaler(), standardscale_features), # StandardScaler for continuous features\n",
    "    ])\n",
    "\n",
    "    # Fit PCA to 4 components\n",
    "    pca = TruncatedSVD(n_components=4, random_state = 15)\n",
    "\n",
    "    # Create pipeline, fit\n",
    "    pipeline = Pipeline(steps=[\n",
    "    ('preprocessor', preprocessor),\n",
    "    ('pca', pca)\n",
    "    ])\n",
    "\n",
    "    df_pca = pd.DataFrame(pipeline.fit_transform(df), \n",
    "                          columns = ['PC1','PC2','PC3','PC4'])\n",
    "\n",
    "    # Plot PCA data to determine number of clusters to fit to data\n",
    "    xpca_vars = ['PC1'] #['PC1','PC2','PC3','PC4']\n",
    "    ypca_vars = ['PC2'] #['PC2','PC3','PC4','PC1']\n",
    "\n",
    "    plt.figure(figsize=(4,4))\n",
    "    create_scatterplot_subplot(df_pca, xpca_vars, ypca_vars, df_hue)\n",
    "    plt.title(f'PCA: {name}')\n",
    "    plt.show()\n",
    "    \n",
    "    \n",
    "    print('Before Clustering:', ', '.join([f\"{index}: {count}\" for index, count in df_hue.value_counts().items()]))\n",
    "    \n",
    "    # Fit Gaussian Mixture Model (GMM) to the reduced data\n",
    "    num_clusters = int(input('Specify Number of Clusters: '))  # Specify the number of clusters\n",
    "    \n",
    "    gmm = GaussianMixture(n_components=num_clusters, n_init = 30, random_state=42, max_iter = 500, \n",
    "                      tol=1e-8,init_params = 'k-means++')\n",
    "    cluster_labels = gmm.fit_predict(df_pca)\n",
    "\n",
    "    # Add cluster labels back to the original data\n",
    "    df['pitch_type'] = cluster_labels\n",
    "\n",
    "    # Calculate cluster centroids\n",
    "    cluster_centroids = gmm.means_\n",
    "\n",
    "    # Calculate the centroids of ground truth labels\n",
    "    ground_truth_centroids = []\n",
    "    ground_truth_labels = np.unique(df_hue)\n",
    "\n",
    "    for label in ground_truth_labels:\n",
    "        centroid = np.mean(df_pca[np.array(df_hue) == label], axis=0)\n",
    "        ground_truth_centroids.append(centroid)\n",
    "\n",
    "    # Assign clusters to ground truth labels based on centroid mahalanobis distances\n",
    "    cluster_to_ground_truth_mapping, _ = pairwise_distances_argmin_min(\n",
    "    X= cluster_centroids, Y= ground_truth_centroids,\n",
    "    metric='mahalanobis', \n",
    "        metric_kwargs={'VI': np.linalg.inv(np.cov(cluster_centroids.T)+ np.identity(cluster_centroids.shape[1]))})\n",
    "\n",
    "    # Index ground-truth labels to cluster labels\n",
    "    # Cluster labels in order 0-x, cluster to ground-truth mapping in order of minimal mahalanobis distance to center\n",
    "    ground_to_cluster_labels = [ground_truth_labels[i] for i in cluster_to_ground_truth_mapping]\n",
    "\n",
    "    # Map indexed ground-truth labels to cluster labels\n",
    "    mapping_dict = {i: ground_to_cluster_labels[i] for i in range(len(ground_to_cluster_labels))}\n",
    "\n",
    "    # Map dict of cluster and ground-truth labels to dataframe\n",
    "    df['pitch_type'] = df['pitch_type'].map(mapping_dict)\n",
    "\n",
    "    # Print number of each pitch type  after clustering\n",
    "    print('After Clustering: ', ', '.join([f\"{index}: {count}\" \n",
    "                                           for index, count in df['pitch_type'].value_counts().items()]))\n",
    "    \n",
    "    # Define new figure, plot PCA data before and after clustering analysis\n",
    "    fig, axis = plt.subplots(1,2, figsize = (8, 4))\n",
    "    create_scatterplot_subplot(df_pca, xpca_vars, ypca_vars, df_hue, \n",
    "                               title = f'PCA: {name}',inp_ax = axis[0])\n",
    "    create_scatterplot_subplot(df_pca, xpca_vars, ypca_vars, df['pitch_type'], \n",
    "                           title = f'PCA (Clustered): {name}', inp_ax = axis[1])\n",
    "    plt.show()\n",
    "    \n",
    "    # Manual component for saving/dropping clustering results from \n",
    "    cluster_eval = input('Is this clustering sufficient?: ')\n",
    "    if cluster_eval == 'y':\n",
    "        pass\n",
    "    else:\n",
    "        # Keep original pitch type labels\n",
    "        df['pitch_type'] = df_hue\n",
    "    \n",
    "    df['player_name'] = name\n",
    "    df_out = df_out.append(df)\n",
    "    return df_out"
   ]
  },
  {
   "cell_type": "markdown",
   "id": "6370ac7e",
   "metadata": {},
   "source": [
    "### Applied, Training Data"
   ]
  },
  {
   "cell_type": "code",
   "execution_count": null,
   "id": "017d50aa",
   "metadata": {},
   "outputs": [],
   "source": [
    "#data21_clus = pd.read_csv('Clustering2021.csv')\n",
    "#data22_clus = pd.read_csv('Clustering2022.csv')"
   ]
  },
  {
   "cell_type": "code",
   "execution_count": null,
   "id": "2b509c99",
   "metadata": {},
   "outputs": [],
   "source": [
    "new_clus = pd.DataFrame()"
   ]
  },
  {
   "cell_type": "code",
   "execution_count": null,
   "id": "b87577e7",
   "metadata": {
    "scrolled": false
   },
   "outputs": [],
   "source": [
    "for i in data22.player_name.unique()[785:]:\n",
    "    index = np.where(i == data22.player_name.unique())[0][0]\n",
    "    print(index, i)\n",
    "    new_clus = cluster_pitchdata(i, data22, new_clus)"
   ]
  },
  {
   "cell_type": "code",
   "execution_count": null,
   "id": "6b3892a9",
   "metadata": {},
   "outputs": [],
   "source": [
    "#clus22 = pd.concat([data22_clus,new_clus])\n",
    "#clus22.to_csv('Clustering2022.csv', index=False)"
   ]
  },
  {
   "cell_type": "code",
   "execution_count": null,
   "id": "9f2b6674",
   "metadata": {},
   "outputs": [],
   "source": [
    "#la_ev_data = pd.read_csv('../../Downloads/savant_data.csv', low_memory = False)"
   ]
  },
  {
   "cell_type": "markdown",
   "id": "7f356820",
   "metadata": {},
   "source": [
    "# Experiments: Run Values"
   ]
  },
  {
   "cell_type": "code",
   "execution_count": null,
   "id": "9ad59e5d",
   "metadata": {},
   "outputs": [],
   "source": [
    "data2021 = pd.read_csv('Data/Statcast/statcast21.csv', low_memory = False)\n",
    "data2022 = pd.read_csv('Data/Statcast/statcast22.csv', low_memory = False)\n",
    "#data2023 = pd.read_csv('statcast23.csv', low_memory = False)\n",
    "\n",
    "data_mass = pd.concat([data2021, data2022]).reset_index()\n",
    "data_mass_ip = data_mass[data_mass.description != 'foul']"
   ]
  },
  {
   "cell_type": "code",
   "execution_count": null,
   "id": "0afcc52d",
   "metadata": {},
   "outputs": [],
   "source": [
    "#carroll = data_mass[data_mass.batter == playerid_lookup('carroll','corbin')['key_mlbam'][0]]\n",
    "test = (data_mass_ip.hc_x - 130),(210 - data_mass_ip.hc_y)\n",
    "\n",
    "sns.scatterplot(x=test[0], y=test[1])"
   ]
  },
  {
   "cell_type": "code",
   "execution_count": null,
   "id": "90c87172",
   "metadata": {},
   "outputs": [],
   "source": [
    "# bb_type: ground_ball, events: double_play\n",
    "data_mass_ip['hc_x'] = data_mass_ip['hc_x'] - 130\n",
    "data_mass_ip['hc_y'] = 210 - data_mass_ip['hc_y']\n",
    "\n",
    "data_mass_ip['angle'] = data_mass_ip.apply(lambda row: math.degrees(math.atan2(row['hc_y'], row['hc_x'])), axis=1)"
   ]
  },
  {
   "cell_type": "code",
   "execution_count": null,
   "id": "cbe1ef34",
   "metadata": {},
   "outputs": [],
   "source": [
    "sns.histplot(data_mass_ip['angle'])\n",
    "plt.title('Distribution of Spray Angle')"
   ]
  },
  {
   "cell_type": "markdown",
   "id": "495b3466",
   "metadata": {},
   "source": [
    "### Define Spray Bucket, Distinguish spray-bb_type (Pulled GB)"
   ]
  },
  {
   "cell_type": "code",
   "execution_count": null,
   "id": "6cae0600",
   "metadata": {},
   "outputs": [],
   "source": [
    "data_mass_ip.bb_type.unique()"
   ]
  },
  {
   "cell_type": "code",
   "execution_count": null,
   "id": "c6a9f294",
   "metadata": {},
   "outputs": [],
   "source": [
    "# Define conditions and corresponding values for the new column\n",
    "conditions = [\n",
    "    (data_mass_ip['stand'] == 'R') & (data_mass_ip['bb_type'] == 'ground_ball') & (data_mass_ip['angle'] <= 75),\n",
    "    (data_mass_ip['stand'] == 'R') & (data_mass_ip['bb_type'] == 'ground_ball') & (data_mass_ip['angle'] > 75) & (data_mass_ip['angle'] < 105),\n",
    "    (data_mass_ip['stand'] == 'R') & (data_mass_ip['bb_type'] == 'ground_ball') & (data_mass_ip['angle'] >= 105),\n",
    "    \n",
    "    (data_mass_ip['stand'] == 'R') & (data_mass_ip['bb_type'] == 'line_drive') & (data_mass_ip['angle'] <= 75),\n",
    "    (data_mass_ip['stand'] == 'R') & (data_mass_ip['bb_type'] == 'line_drive') & (data_mass_ip['angle'] > 75) & (data_mass_ip['angle'] < 105),\n",
    "    (data_mass_ip['stand'] == 'R') & (data_mass_ip['bb_type'] == 'line_drive') & (data_mass_ip['angle'] >= 105),\n",
    "    \n",
    "    (data_mass_ip['stand'] == 'R') & (data_mass_ip['bb_type'] == 'fly_ball') & (data_mass_ip['angle'] <= 75),\n",
    "    (data_mass_ip['stand'] == 'R') & (data_mass_ip['bb_type'] == 'fly_ball') & (data_mass_ip['angle'] > 75) & (data_mass_ip['angle'] < 105),\n",
    "    (data_mass_ip['stand'] == 'R') & (data_mass_ip['bb_type'] == 'fly_ball') & (data_mass_ip['angle'] >= 105),\n",
    "    \n",
    "    (data_mass_ip['stand'] == 'R') & (data_mass_ip['bb_type'] == 'popup') & (data_mass_ip['angle'] <= 75),\n",
    "    (data_mass_ip['stand'] == 'R') & (data_mass_ip['bb_type'] == 'popup') & (data_mass_ip['angle'] > 75) & (data_mass_ip['angle'] < 105),\n",
    "    (data_mass_ip['stand'] == 'R') & (data_mass_ip['bb_type'] == 'popup') & (data_mass_ip['angle'] >= 105),\n",
    "    \n",
    "    (data_mass_ip['stand'] == 'L') & (data_mass_ip['bb_type'] == 'ground_ball') & (data_mass_ip['angle'] >= 105),\n",
    "    (data_mass_ip['stand'] == 'L') & (data_mass_ip['bb_type'] == 'ground_ball') & (data_mass_ip['angle'] > 75) & (data_mass_ip['angle'] < 105),\n",
    "    (data_mass_ip['stand'] == 'L') & (data_mass_ip['bb_type'] == 'ground_ball') & (data_mass_ip['angle'] <= 75),\n",
    "    \n",
    "    (data_mass_ip['stand'] == 'L') & (data_mass_ip['bb_type'] == 'line_drive') & (data_mass_ip['angle'] >= 105),\n",
    "    (data_mass_ip['stand'] == 'L') & (data_mass_ip['bb_type'] == 'line_drive') & (data_mass_ip['angle'] > 75) & (data_mass_ip['angle'] < 105),\n",
    "    (data_mass_ip['stand'] == 'L') & (data_mass_ip['bb_type'] == 'line_drive') & (data_mass_ip['angle'] <= 75),\n",
    "    \n",
    "    (data_mass_ip['stand'] == 'L') & (data_mass_ip['bb_type'] == 'fly_ball') & (data_mass_ip['angle'] >= 105),\n",
    "    (data_mass_ip['stand'] == 'L') & (data_mass_ip['bb_type'] == 'fly_ball') & (data_mass_ip['angle'] > 75) & (data_mass_ip['angle'] < 105),\n",
    "    (data_mass_ip['stand'] == 'L') & (data_mass_ip['bb_type'] == 'fly_ball') & (data_mass_ip['angle'] <= 75),\n",
    "\n",
    "    (data_mass_ip['stand'] == 'L') & (data_mass_ip['bb_type'] == 'popup') & (data_mass_ip['angle'] <= 75),\n",
    "    (data_mass_ip['stand'] == 'L') & (data_mass_ip['bb_type'] == 'popup') & (data_mass_ip['angle'] > 75) & (data_mass_ip['angle'] < 105),\n",
    "    (data_mass_ip['stand'] == 'L') & (data_mass_ip['bb_type'] == 'popup') & (data_mass_ip['angle'] >= 105),\n",
    "]\n",
    "\n",
    "choices = ['Oppo_GB', 'Cent_GB', 'Pull_GB', \n",
    "           'Oppo_LD', 'Cent_LD', 'Pull_LD', \n",
    "           'Oppo_FB', 'Cent_FB', 'Pull_FB',\n",
    "           'Oppo_PU', 'Cent_PU', 'Pull_PU',\n",
    "          'Oppo_GB', 'Cent_GB', 'Pull_GB', \n",
    "           'Oppo_LD', 'Cent_LD', 'Pull_LD', \n",
    "           'Oppo_FB', 'Cent_FB', 'Pull_FB',\n",
    "          'Oppo_PU', 'Cent_PU', 'Pull_PU']\n",
    "\n",
    "data_mass_ip['spray_bucket'] = np.select(conditions, choices, default=np.nan)"
   ]
  },
  {
   "cell_type": "code",
   "execution_count": null,
   "id": "1a76e0ca",
   "metadata": {},
   "outputs": [],
   "source": [
    "ip_spray_rvs = data_mass_ip[((data_mass_ip.bb_type).notna()) & (data_mass_ip.hc_x).notna()][\n",
    "    ['stand','hc_x','hc_y','angle','bb_type','spray_bucket','delta_run_exp','events']]"
   ]
  },
  {
   "cell_type": "code",
   "execution_count": null,
   "id": "0f927045",
   "metadata": {},
   "outputs": [],
   "source": [
    "ip_spray_rvs.groupby(\n",
    "    ['spray_bucket']).delta_run_exp.mean().round(3).reset_index()"
   ]
  },
  {
   "cell_type": "code",
   "execution_count": null,
   "id": "e70f5ce5",
   "metadata": {},
   "outputs": [],
   "source": [
    "# Potential Issue: Basing a model on these might be overfitting noise on defensive positioning\n",
    "## Example: Cent_GB RHH vs. Cent_GB LHH\n",
    "\n",
    "ip_spray_rvs.groupby(\n",
    "    ['stand','spray_bucket']).delta_run_exp.mean().round(3).reset_index()"
   ]
  },
  {
   "cell_type": "code",
   "execution_count": null,
   "id": "96bd45e3",
   "metadata": {},
   "outputs": [],
   "source": [
    "ip_rvs = data_mass[(data_mass.bb_type).notna()][['stand','bb_type','delta_run_exp','events']]\n",
    "\n",
    "ip_rvs.groupby(\n",
    "    ['bb_type']).delta_run_exp.mean().round(3).reset_index()"
   ]
  },
  {
   "cell_type": "code",
   "execution_count": null,
   "id": "d6025893",
   "metadata": {},
   "outputs": [],
   "source": [
    "# Frequency of GIDPs by spray angle\n",
    "ip_spray_rvs[(ip_spray_rvs.events == 'grounded_into_double_play')].groupby(\n",
    "    ['spray_bucket']).events.count()"
   ]
  },
  {
   "cell_type": "code",
   "execution_count": null,
   "id": "aaae7485",
   "metadata": {},
   "outputs": [],
   "source": [
    "year_to_year = data_mass_ip[(data_mass_ip.bb_type == 'ground_ball') & (data_mass_ip.bb_type.notna()) & (data_mass_ip.hc_x.notna())][\n",
    "    ['pitcher','game_year','spray_bucket','events']].groupby(\n",
    "['pitcher','game_year','spray_bucket']).events.count().reset_index()\n",
    "\n",
    "# Example: Logan Webb # of GB's by Spray Bucket per Year\n",
    "year_to_year[year_to_year.pitcher == 657277]\n",
    "\n",
    "# Example: Lucas Giolito\n",
    "year_to_year[year_to_year.pitcher == 608337]\n",
    "\n",
    "# Example: Clay Holmes\n",
    "year_to_year[year_to_year.pitcher == 605280]"
   ]
  },
  {
   "cell_type": "code",
   "execution_count": null,
   "id": "ded0ff0d",
   "metadata": {},
   "outputs": [],
   "source": [
    "ip_spray_rvs[(ip_spray_rvs.events == 'grounded_into_double_play')].groupby(\n",
    "    ['spray_bucket']).delta_run_exp.mean().round(3).reset_index()"
   ]
  },
  {
   "cell_type": "code",
   "execution_count": null,
   "id": "67aa7d26",
   "metadata": {},
   "outputs": [],
   "source": [
    "ip_rvs[(ip_rvs.events == 'grounded_into_double_play')].delta_run_exp.mean().round(3)"
   ]
  }
 ],
 "metadata": {
  "kernelspec": {
   "display_name": "Python 3 (ipykernel)",
   "language": "python",
   "name": "python3"
  },
  "language_info": {
   "codemirror_mode": {
    "name": "ipython",
    "version": 3
   },
   "file_extension": ".py",
   "mimetype": "text/x-python",
   "name": "python",
   "nbconvert_exporter": "python",
   "pygments_lexer": "ipython3",
   "version": "3.11.3"
  }
 },
 "nbformat": 4,
 "nbformat_minor": 5
}
